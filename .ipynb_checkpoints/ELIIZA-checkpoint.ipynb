{
 "cells": [
  {
   "cell_type": "markdown",
   "metadata": {},
   "source": [
    "Use the dataset in `./dataset/questions.csv` to develop a classifier to predict the forum based on the question body. Your objective is to maximise the model’s performance, however, we encourage you to avoid spending time training multiple models. You are free to preprocess the data as you like and use any classification algorithms. Produce a Jupyter Notebook that includes all code, details, and decisions made over the course of your model development.\n",
    "\n"
   ]
  },
  {
   "cell_type": "code",
   "execution_count": 1,
   "metadata": {
    "ExecuteTime": {
     "end_time": "2022-02-21T07:15:10.523287Z",
     "start_time": "2022-02-21T07:15:07.547666Z"
    },
    "code_folding": [
     11,
     26
    ]
   },
   "outputs": [
    {
     "name": "stderr",
     "output_type": "stream",
     "text": [
      "[nltk_data] Downloading package brown to\n",
      "[nltk_data]     /home/nightingale/nltk_data...\n",
      "[nltk_data]   Package brown is already up-to-date!\n",
      "[nltk_data] Downloading package names to\n",
      "[nltk_data]     /home/nightingale/nltk_data...\n",
      "[nltk_data]   Package names is already up-to-date!\n",
      "[nltk_data] Downloading package wordnet to\n",
      "[nltk_data]     /home/nightingale/nltk_data...\n",
      "[nltk_data]   Package wordnet is already up-to-date!\n",
      "[nltk_data] Downloading package averaged_perceptron_tagger to\n",
      "[nltk_data]     /home/nightingale/nltk_data...\n",
      "[nltk_data]   Package averaged_perceptron_tagger is already up-to-\n",
      "[nltk_data]       date!\n",
      "[nltk_data] Downloading package universal_tagset to\n",
      "[nltk_data]     /home/nightingale/nltk_data...\n",
      "[nltk_data]   Package universal_tagset is already up-to-date!\n"
     ]
    }
   ],
   "source": [
    "import pandas as pd\n",
    "import re\n",
    "import warnings\n",
    "import nltk\n",
    "warnings.filterwarnings('ignore')\n",
    "import numpy as np\n",
    "import pandas as pd\n",
    "# sklearn modules\n",
    "from sklearn.model_selection import train_test_split\n",
    "from sklearn.pipeline import Pipeline\n",
    "from sklearn.naive_bayes import MultinomialNB # classifier \n",
    "from sklearn.metrics import (\n",
    "    accuracy_score,\n",
    "    classification_report,\n",
    "    plot_confusion_matrix,\n",
    ")\n",
    "from sklearn.feature_extraction.text import TfidfVectorizer, CountVectorizer\n",
    "# text preprocessing modules\n",
    "from string import punctuation \n",
    "# text preprocessing modules\n",
    "from nltk.tokenize import word_tokenize\n",
    "import nltk\n",
    "from nltk.corpus import stopwords\n",
    "from nltk.stem import WordNetLemmatizer \n",
    "import re #regular expression\n",
    "# Download dependency\n",
    "for dependency in (\n",
    "    \"brown\",\n",
    "    \"names\",\n",
    "    \"wordnet\",\n",
    "    \"averaged_perceptron_tagger\",\n",
    "    \"universal_tagset\",\n",
    "):\n",
    "    nltk.download(dependency)\n",
    "    \n",
    "import warnings\n",
    "from sklearn import metrics\n",
    "warnings.filterwarnings(\"ignore\")\n",
    "# seeding\n",
    "np.random.seed(123)"
   ]
  },
  {
   "cell_type": "code",
   "execution_count": 2,
   "metadata": {
    "ExecuteTime": {
     "end_time": "2022-02-21T07:15:11.397453Z",
     "start_time": "2022-02-21T07:15:10.524543Z"
    }
   },
   "outputs": [
    {
     "data": {
      "text/html": [
       "<div>\n",
       "<style scoped>\n",
       "    .dataframe tbody tr th:only-of-type {\n",
       "        vertical-align: middle;\n",
       "    }\n",
       "\n",
       "    .dataframe tbody tr th {\n",
       "        vertical-align: top;\n",
       "    }\n",
       "\n",
       "    .dataframe thead th {\n",
       "        text-align: right;\n",
       "    }\n",
       "</style>\n",
       "<table border=\"1\" class=\"dataframe\">\n",
       "  <thead>\n",
       "    <tr style=\"text-align: right;\">\n",
       "      <th></th>\n",
       "      <th>forum</th>\n",
       "      <th>question</th>\n",
       "      <th>license</th>\n",
       "    </tr>\n",
       "  </thead>\n",
       "  <tbody>\n",
       "    <tr>\n",
       "      <th>0</th>\n",
       "      <td>quantumcomputing</td>\n",
       "      <td>What is the difference between a qudit system ...</td>\n",
       "      <td>CC BY-SA 4.0</td>\n",
       "    </tr>\n",
       "    <tr>\n",
       "      <th>1</th>\n",
       "      <td>astronomy</td>\n",
       "      <td>What does the Sun look like from the heliopause?</td>\n",
       "      <td>CC BY-SA 4.0</td>\n",
       "    </tr>\n",
       "    <tr>\n",
       "      <th>2</th>\n",
       "      <td>martialarts</td>\n",
       "      <td>How to cope with rival that carries stone or f...</td>\n",
       "      <td>CC BY-SA 3.0</td>\n",
       "    </tr>\n",
       "    <tr>\n",
       "      <th>3</th>\n",
       "      <td>opendata</td>\n",
       "      <td>Is there an emotion speech detection - accurat...</td>\n",
       "      <td>CC BY-SA 3.0</td>\n",
       "    </tr>\n",
       "    <tr>\n",
       "      <th>4</th>\n",
       "      <td>astronomy</td>\n",
       "      <td>Is it possible to steer the sight of a Liquid ...</td>\n",
       "      <td>CC BY-SA 3.0</td>\n",
       "    </tr>\n",
       "  </tbody>\n",
       "</table>\n",
       "</div>"
      ],
      "text/plain": [
       "              forum                                           question  \\\n",
       "0  quantumcomputing  What is the difference between a qudit system ...   \n",
       "1         astronomy   What does the Sun look like from the heliopause?   \n",
       "2       martialarts  How to cope with rival that carries stone or f...   \n",
       "3          opendata  Is there an emotion speech detection - accurat...   \n",
       "4         astronomy  Is it possible to steer the sight of a Liquid ...   \n",
       "\n",
       "        license  \n",
       "0  CC BY-SA 4.0  \n",
       "1  CC BY-SA 4.0  \n",
       "2  CC BY-SA 3.0  \n",
       "3  CC BY-SA 3.0  \n",
       "4  CC BY-SA 3.0  "
      ]
     },
     "execution_count": 2,
     "metadata": {},
     "output_type": "execute_result"
    }
   ],
   "source": [
    "#read the headless csv files from the repo and aissgn headers\n",
    "raw_data = pd.read_csv('https://raw.githubusercontent.com/eliiza/challenge-stack-exchange/main/dataset/questions.csv', dtype='str',\n",
    "                      names=['forum', 'question', 'license'])\n",
    "raw_data.head()"
   ]
  },
  {
   "cell_type": "markdown",
   "metadata": {},
   "source": [
    "## Data Exploration"
   ]
  },
  {
   "cell_type": "code",
   "execution_count": 3,
   "metadata": {
    "ExecuteTime": {
     "end_time": "2022-02-21T07:15:11.477686Z",
     "start_time": "2022-02-21T07:15:11.399334Z"
    },
    "scrolled": true
   },
   "outputs": [
    {
     "data": {
      "text/html": [
       "<div>\n",
       "<style scoped>\n",
       "    .dataframe tbody tr th:only-of-type {\n",
       "        vertical-align: middle;\n",
       "    }\n",
       "\n",
       "    .dataframe tbody tr th {\n",
       "        vertical-align: top;\n",
       "    }\n",
       "\n",
       "    .dataframe thead th {\n",
       "        text-align: right;\n",
       "    }\n",
       "</style>\n",
       "<table border=\"1\" class=\"dataframe\">\n",
       "  <thead>\n",
       "    <tr style=\"text-align: right;\">\n",
       "      <th></th>\n",
       "      <th>forum</th>\n",
       "      <th>question</th>\n",
       "      <th>license</th>\n",
       "    </tr>\n",
       "  </thead>\n",
       "  <tbody>\n",
       "    <tr>\n",
       "      <th>count</th>\n",
       "      <td>40918</td>\n",
       "      <td>40918</td>\n",
       "      <td>40918</td>\n",
       "    </tr>\n",
       "    <tr>\n",
       "      <th>unique</th>\n",
       "      <td>9</td>\n",
       "      <td>40907</td>\n",
       "      <td>2</td>\n",
       "    </tr>\n",
       "    <tr>\n",
       "      <th>top</th>\n",
       "      <td>astronomy</td>\n",
       "      <td>Why is automated theorem proving so hard?</td>\n",
       "      <td>CC BY-SA 4.0</td>\n",
       "    </tr>\n",
       "    <tr>\n",
       "      <th>freq</th>\n",
       "      <td>9995</td>\n",
       "      <td>2</td>\n",
       "      <td>21583</td>\n",
       "    </tr>\n",
       "  </tbody>\n",
       "</table>\n",
       "</div>"
      ],
      "text/plain": [
       "            forum                                   question       license\n",
       "count       40918                                      40918         40918\n",
       "unique          9                                      40907             2\n",
       "top     astronomy  Why is automated theorem proving so hard?  CC BY-SA 4.0\n",
       "freq         9995                                          2         21583"
      ]
     },
     "execution_count": 3,
     "metadata": {},
     "output_type": "execute_result"
    }
   ],
   "source": [
    "raw_data.describe()"
   ]
  },
  {
   "cell_type": "code",
   "execution_count": 4,
   "metadata": {
    "ExecuteTime": {
     "end_time": "2022-02-21T07:15:11.483321Z",
     "start_time": "2022-02-21T07:15:11.479864Z"
    }
   },
   "outputs": [
    {
     "data": {
      "text/plain": [
       "(40918, 3)"
      ]
     },
     "execution_count": 4,
     "metadata": {},
     "output_type": "execute_result"
    }
   ],
   "source": [
    "raw_data.shape"
   ]
  },
  {
   "cell_type": "code",
   "execution_count": 5,
   "metadata": {
    "ExecuteTime": {
     "end_time": "2022-02-21T07:15:11.495871Z",
     "start_time": "2022-02-21T07:15:11.485062Z"
    }
   },
   "outputs": [
    {
     "data": {
      "text/plain": [
       "forum       0\n",
       "question    0\n",
       "license     0\n",
       "dtype: int64"
      ]
     },
     "execution_count": 5,
     "metadata": {},
     "output_type": "execute_result"
    }
   ],
   "source": [
    "#check fro nulls\n",
    "raw_data.isnull().sum()"
   ]
  },
  {
   "cell_type": "code",
   "execution_count": 6,
   "metadata": {
    "ExecuteTime": {
     "end_time": "2022-02-21T07:15:11.505142Z",
     "start_time": "2022-02-21T07:15:11.497306Z"
    }
   },
   "outputs": [
    {
     "data": {
      "text/plain": [
       "astronomy           9995\n",
       "ai                  8287\n",
       "opendata            5566\n",
       "sports              5171\n",
       "quantumcomputing    4681\n",
       "computergraphics    3036\n",
       "martialarts         1863\n",
       "coffee              1254\n",
       "beer                1065\n",
       "Name: forum, dtype: int64"
      ]
     },
     "execution_count": 6,
     "metadata": {},
     "output_type": "execute_result"
    }
   ],
   "source": [
    "raw_data['forum'].value_counts()"
   ]
  },
  {
   "cell_type": "code",
   "execution_count": 7,
   "metadata": {
    "ExecuteTime": {
     "end_time": "2022-02-21T07:15:11.538881Z",
     "start_time": "2022-02-21T07:15:11.506740Z"
    }
   },
   "outputs": [
    {
     "data": {
      "text/plain": [
       "Why is automated theorem proving so hard?                                   2\n",
       "Source of aggressively toned texts for machine learning                     2\n",
       "Dataset suggestions for teaching data science in a for-profit setting       2\n",
       "Taking a picture of Starlink satellites                                     2\n",
       "How can I improve my endurance while skiing?                                2\n",
       "                                                                           ..\n",
       "Could artificial general intelligence harm humanity?                        1\n",
       "Deep Reinforcement Learning Atari: how does the agent understand motion?    1\n",
       "Adversarial Q Learning should use the same Q Table?                         1\n",
       "Beta profile fit of Virgo cluster gas?                                      1\n",
       "When a QB slides, is it considered a dead ball?                             1\n",
       "Name: question, Length: 40907, dtype: int64"
      ]
     },
     "execution_count": 7,
     "metadata": {},
     "output_type": "execute_result"
    }
   ],
   "source": [
    "raw_data['question'].value_counts()\n"
   ]
  },
  {
   "cell_type": "code",
   "execution_count": 8,
   "metadata": {
    "ExecuteTime": {
     "end_time": "2022-02-21T07:15:11.572723Z",
     "start_time": "2022-02-21T07:15:11.542323Z"
    }
   },
   "outputs": [
    {
     "data": {
      "text/plain": [
       "question\n",
       "Age of the universe                                                             [astronomy]\n",
       "Could iron rain upset tidally locked WASP76b?                                   [astronomy]\n",
       "Dataset suggestions for teaching data science in a for-profit setting            [opendata]\n",
       "Do tides occur on planets like Neptune, having water?                           [astronomy]\n",
       "How can I improve my endurance while skiing?                                       [sports]\n",
       "Job Title Classification Training Data                                           [opendata]\n",
       "Source of aggressively toned texts for machine learning                          [opendata]\n",
       "Taking a picture of Starlink satellites                                         [astronomy]\n",
       "Where to get soccer data per period?                                     [opendata, sports]\n",
       "Which is better for grinding coffee: Food processor or blender?                    [coffee]\n",
       "Why is automated theorem proving so hard?                                              [ai]\n",
       "Name: forum, dtype: object"
      ]
     },
     "execution_count": 8,
     "metadata": {},
     "output_type": "execute_result"
    }
   ],
   "source": [
    "#quick snopping around shows that some of the questions have been repeated, \n",
    "#lets dive a bit deep to check if have different labels (this might not be good for our classifier)\n",
    "_check = raw_data[raw_data.duplicated(subset=['question'], keep= False)].sort_values(by = ['question'])\n",
    "_check.groupby(['question'])['forum'].apply(lambda x: list(np.unique(x)))"
   ]
  },
  {
   "cell_type": "code",
   "execution_count": 9,
   "metadata": {
    "ExecuteTime": {
     "end_time": "2022-02-21T07:15:11.595938Z",
     "start_time": "2022-02-21T07:15:11.575115Z"
    },
    "scrolled": true
   },
   "outputs": [],
   "source": [
    "#it makes sense to label `Where to get soccer data per period?` as  [opendata, sports].` \n",
    "#This shouldnt affect our classifier that much.\n",
    "#We will go ahead and drop duplicates anyway\n",
    "_data = raw_data.drop_duplicates(keep = 'first', subset=['forum', 'question']).reset_index(drop =True)\n"
   ]
  },
  {
   "cell_type": "code",
   "execution_count": 10,
   "metadata": {
    "ExecuteTime": {
     "end_time": "2022-02-21T07:15:11.600108Z",
     "start_time": "2022-02-21T07:15:11.597386Z"
    }
   },
   "outputs": [
    {
     "name": "stdout",
     "output_type": "stream",
     "text": [
      "40918 40908\n"
     ]
    }
   ],
   "source": [
    "#lets print the difference to make sure that we have drop the duplicates\n",
    "print(len(raw_data), len(_data))"
   ]
  },
  {
   "cell_type": "markdown",
   "metadata": {},
   "source": [
    "## Data Cleaning\n"
   ]
  },
  {
   "cell_type": "markdown",
   "metadata": {},
   "source": [
    "Cleaning Stategy: this is will influenced heavily by the type of model we would be to build. \n",
    "For eg. if our classifier is going to be using word tokens, then we go ahed and remove stopwords\n",
    "* remove special characters\n",
    "* convert to lowercase\n",
    "* "
   ]
  },
  {
   "cell_type": "code",
   "execution_count": 11,
   "metadata": {
    "ExecuteTime": {
     "end_time": "2022-02-21T07:15:11.603425Z",
     "start_time": "2022-02-21T07:15:11.601447Z"
    }
   },
   "outputs": [],
   "source": [
    "#lets test our regex for removing special characters\n",
    "# mystring = _data['question'].iloc[np.random.randint(0, len(_data), size=1)[0]]\n",
    "# print(mystring)\n",
    "# re.sub('[^A-Za-z0-9]+', ' ', mystring).strip()"
   ]
  },
  {
   "cell_type": "code",
   "execution_count": 12,
   "metadata": {
    "ExecuteTime": {
     "end_time": "2022-02-21T07:15:11.614325Z",
     "start_time": "2022-02-21T07:15:11.604960Z"
    }
   },
   "outputs": [],
   "source": [
    "stop_words =  stopwords.words('english')\n",
    "def clean_text(text, remove_stop_words=True, lemmatize_words=False):\n",
    "    \"\"\"\n",
    "        Put Doc Strings here\n",
    "    \"\"\"\n",
    "    # Clean the text, with the option to remove stop_words and to lemmatize word\n",
    "    # Clean the text\n",
    "    text = re.sub(r\"[^A-Za-z0-9]\", \" \", text)\n",
    "    text = re.sub(r\"\\'s\", \" \", text)\n",
    "    text =  re.sub(r'http\\S+',' link ', text)\n",
    "    text = re.sub(r'\\b\\d+(?:\\.\\d+)?\\s+', '', text) # remove numbers\n",
    "        \n",
    "    # Remove punctuation from text\n",
    "    text = ''.join([c.lower() for c in text if c not in punctuation])\n",
    "    \n",
    "    # Optionally, remove stop words\n",
    "    if remove_stop_words:\n",
    "        text = text.split()\n",
    "        text = [w for w in text if not w in stop_words]\n",
    "        text = \" \".join(text)\n",
    "    \n",
    "    # Optionally, shorten words to their stems\n",
    "    if lemmatize_words:\n",
    "        text = text.split()\n",
    "        lemmatizer = WordNetLemmatizer() \n",
    "        lemmatized_words = [lemmatizer.lemmatize(word) for word in text]\n",
    "        text = \" \".join(lemmatized_words)\n",
    "    \n",
    "    # Return a list of words\n",
    "    return(text)"
   ]
  },
  {
   "cell_type": "code",
   "execution_count": 13,
   "metadata": {
    "ExecuteTime": {
     "end_time": "2022-02-21T07:15:11.617547Z",
     "start_time": "2022-02-21T07:15:11.615691Z"
    }
   },
   "outputs": [],
   "source": [
    "# def remove_special_characters(x):\n",
    "#     return re.sub('[^A-Za-z0-9]+', ' ', x).strip().lower()\n",
    "\n",
    "# _data['question_cleaned'] = _data.apply(lambda x: remove_special_characters(x['question']), axis =1)"
   ]
  },
  {
   "cell_type": "code",
   "execution_count": 44,
   "metadata": {
    "ExecuteTime": {
     "end_time": "2022-02-21T07:28:12.459238Z",
     "start_time": "2022-02-21T07:28:10.766616Z"
    }
   },
   "outputs": [],
   "source": [
    "# t = _data['question'].iloc[np.random.randint(0, len(_data), size=1)[0]]tex\n",
    "_data[\"cleaned_question\"] = _data.apply(lambda x:clean_text(x[\"question\"], remove_stop_words=True, lemmatize_words=False), axis=1)\n"
   ]
  },
  {
   "cell_type": "markdown",
   "metadata": {},
   "source": [
    "### DATA MODELLING\n"
   ]
  },
  {
   "cell_type": "markdown",
   "metadata": {},
   "source": [
    "Tfidftransformer vs. Tfidfvectorizer\n",
    "In summary, the main difference between the two modules are as follows:\n",
    "\n",
    "With Tfidftransformer you will systematically compute word counts using CountVectorizer and \n",
    "then compute the Inverse Document Frequency (IDF) values and only then compute the Tf-idf scores.\n",
    "\n"
   ]
  },
  {
   "cell_type": "code",
   "execution_count": 15,
   "metadata": {
    "ExecuteTime": {
     "end_time": "2022-02-21T07:15:13.408109Z",
     "start_time": "2022-02-21T07:15:13.405648Z"
    }
   },
   "outputs": [],
   "source": [
    "from sklearn.pipeline import Pipeline\n",
    "from sklearn.feature_extraction.text import TfidfTransformer\n",
    "from sklearn.model_selection import GridSearchCV"
   ]
  },
  {
   "cell_type": "code",
   "execution_count": 45,
   "metadata": {
    "ExecuteTime": {
     "end_time": "2022-02-21T07:28:15.348583Z",
     "start_time": "2022-02-21T07:28:15.310734Z"
    }
   },
   "outputs": [],
   "source": [
    "X = _data[\"cleaned_question\"]\n",
    "y = _data.forum.values\n",
    "X_train, X_valid, y_train, y_valid = train_test_split(\n",
    "    X,\n",
    "    y,\n",
    "    test_size=0.20,\n",
    "#     random_state=42,\n",
    "    shuffle=True,\n",
    "    stratify=y,\n",
    ")"
   ]
  },
  {
   "cell_type": "code",
   "execution_count": null,
   "metadata": {
    "ExecuteTime": {
     "end_time": "2022-02-20T19:38:14.433468Z",
     "start_time": "2022-02-20T19:38:14.423726Z"
    }
   },
   "outputs": [],
   "source": []
  },
  {
   "cell_type": "markdown",
   "metadata": {
    "ExecuteTime": {
     "end_time": "2022-02-19T01:12:18.271375Z",
     "start_time": "2022-02-19T01:12:18.264248Z"
    }
   },
   "source": [
    "#### Naive Bayes"
   ]
  },
  {
   "cell_type": "code",
   "execution_count": 17,
   "metadata": {
    "ExecuteTime": {
     "end_time": "2022-02-21T07:15:13.876892Z",
     "start_time": "2022-02-21T07:15:13.470310Z"
    }
   },
   "outputs": [
    {
     "data": {
      "text/plain": [
       "0.8457589831337081"
      ]
     },
     "execution_count": 17,
     "metadata": {},
     "output_type": "execute_result"
    }
   ],
   "source": [
    "from sklearn.naive_bayes import MultinomialNB\n",
    "naive_bayes = Pipeline([\n",
    "                    ('vect', CountVectorizer()),\n",
    "                    ('tfidf', TfidfTransformer()),\n",
    "                     ('naive_bayes',MultinomialNB())\n",
    "                    ])\n",
    "\n",
    "naive_bayes.fit(X_train, y_train)\n",
    "# test model performance on valid data \n",
    "y_preds = naive_bayes.predict(X_valid)\n",
    "accuracy_score(y_valid,y_preds)\n",
    "\n",
    "\n",
    "#plot_confusion_matrix(naive_bayes, X = y_valid,y_true = y_preds,)"
   ]
  },
  {
   "cell_type": "markdown",
   "metadata": {},
   "source": [
    "Using Pipeline in a GridSearchCV, the parameter grid for the model should start with whatever name you gave when defining the pipeline."
   ]
  },
  {
   "cell_type": "code",
   "execution_count": null,
   "metadata": {
    "ExecuteTime": {
     "end_time": "2022-02-20T03:16:41.845778Z",
     "start_time": "2022-02-20T03:16:41.829231Z"
    }
   },
   "outputs": [],
   "source": []
  },
  {
   "cell_type": "code",
   "execution_count": 48,
   "metadata": {
    "ExecuteTime": {
     "end_time": "2022-02-21T07:28:52.263464Z",
     "start_time": "2022-02-21T07:28:46.607806Z"
    }
   },
   "outputs": [
    {
     "name": "stdout",
     "output_type": "stream",
     "text": [
      "CPU times: user 1.16 s, sys: 41.1 ms, total: 1.2 s\n",
      "Wall time: 5.59 s\n"
     ]
    },
    {
     "data": {
      "text/plain": [
       "0.9052798826692741"
      ]
     },
     "execution_count": 48,
     "metadata": {},
     "output_type": "execute_result"
    }
   ],
   "source": [
    "# lets add grid search\n",
    "params = {'naive_bayes__alpha': [0.01, 0.1, 0.2, 0.3, 0.4, 0.5, 1.0, 10.0, ],\n",
    "         }\n",
    "multinomial_nb_grid = GridSearchCV(naive_bayes, param_grid=params, n_jobs=-1, cv=7)\n",
    "%time multinomial_nb_grid.fit(X_train, y_train)\n",
    "y_preds = multinomial_nb_grid.predict(X_valid)\n",
    "accuracy_score(y_valid,y_preds)"
   ]
  },
  {
   "cell_type": "code",
   "execution_count": 49,
   "metadata": {
    "ExecuteTime": {
     "end_time": "2022-02-21T07:28:57.486950Z",
     "start_time": "2022-02-21T07:28:57.334987Z"
    }
   },
   "outputs": [
    {
     "name": "stdout",
     "output_type": "stream",
     "text": [
      "                  precision    recall  f1-score   support\n",
      "\n",
      "quantumcomputing       0.85      0.94      0.89      1657\n",
      "       astronomy       0.91      0.97      0.94      1998\n",
      "     martialarts       0.95      0.75      0.84       213\n",
      "        opendata       0.96      0.90      0.93       251\n",
      "          sports       0.91      0.75      0.82       607\n",
      "              ai       0.94      0.80      0.86       373\n",
      "computergraphics       0.90      0.86      0.88      1113\n",
      "          coffee       0.94      0.93      0.94       936\n",
      "            beer       0.92      0.92      0.92      1034\n",
      "\n",
      "        accuracy                           0.91      8182\n",
      "       macro avg       0.92      0.87      0.89      8182\n",
      "    weighted avg       0.91      0.91      0.90      8182\n",
      "\n"
     ]
    }
   ],
   "source": [
    "#Accurary has Increased, lets check the report for the PRecision and Recall\n",
    "print(metrics.classification_report(y_valid, y_preds,  target_names=_data.forum.unique()))"
   ]
  },
  {
   "cell_type": "code",
   "execution_count": 50,
   "metadata": {
    "ExecuteTime": {
     "end_time": "2022-02-21T07:29:39.320144Z",
     "start_time": "2022-02-21T07:29:38.687657Z"
    }
   },
   "outputs": [
    {
     "data": {
      "image/png": "[encoded data removed]",
      "text/plain": [
       "<Figure size 1440x1440 with 2 Axes>"
      ]
     },
     "metadata": {
      "needs_background": "light"
     },
     "output_type": "display_data"
    }
   ],
   "source": [
    "import matplotlib.pyplot as plt\n",
    "fig, ax = plt.subplots(figsize=(20, 20))\n",
    "plot_confusion_matrix(multinomial_nb_grid, X_valid, y_valid, ax= ax, cmap=plt.cm.Blues)  \n",
    "plt.show()"
   ]
  },
  {
   "cell_type": "markdown",
   "metadata": {},
   "source": [
    "#### SVM"
   ]
  },
  {
   "cell_type": "code",
   "execution_count": 20,
   "metadata": {
    "ExecuteTime": {
     "end_time": "2022-02-21T07:15:21.750384Z",
     "start_time": "2022-02-21T07:15:21.016950Z"
    }
   },
   "outputs": [
    {
     "data": {
      "text/plain": [
       "0.8683695917868491"
      ]
     },
     "execution_count": 20,
     "metadata": {},
     "output_type": "execute_result"
    }
   ],
   "source": [
    "#let try SVM\n",
    "from sklearn.linear_model import SGDClassifier\n",
    "svm_clf = Pipeline([\n",
    "                    # ('pre_processing',TfidfVectorizer(lowercase=False)), \n",
    "                    ('vect', CountVectorizer()),\n",
    "                    ('tfidf', TfidfTransformer()),\n",
    "                    ('svm', SGDClassifier(loss='hinge', penalty='l2',\n",
    "                     alpha=1e-3, random_state=42,\n",
    "                       max_iter=5, tol=None))\n",
    "                    ])\n",
    "svm_clf.fit(X_train, y_train)\n",
    "# test model performance on valid data \n",
    "y_preds = svm_clf.predict(X_valid)\n",
    "accuracy_score(y_valid,y_preds)"
   ]
  },
  {
   "cell_type": "code",
   "execution_count": 21,
   "metadata": {
    "ExecuteTime": {
     "end_time": "2022-02-21T07:15:30.249144Z",
     "start_time": "2022-02-21T07:15:21.751706Z"
    }
   },
   "outputs": [
    {
     "name": "stdout",
     "output_type": "stream",
     "text": [
      "Fitting 5 folds for each of 8 candidates, totalling 40 fits\n"
     ]
    },
    {
     "data": {
      "text/plain": [
       "0.8704473233928135"
      ]
     },
     "execution_count": 21,
     "metadata": {},
     "output_type": "execute_result"
    }
   ],
   "source": [
    "# SVM with grid search\n",
    "# lets add grid search\n",
    "\n",
    "params = { \n",
    "                'vect__ngram_range': [(1, 1), (1, 2)],\n",
    "                'tfidf__use_idf': (True, False),\n",
    "                'svm__alpha': (1e-2, 1e-3),\n",
    "}\n",
    "\n",
    "svm_grid = GridSearchCV(svm_clf, param_grid=params, n_jobs=-1, cv=5, verbose=5)\n",
    "svm_grid.fit(X_train, y_train)\n",
    "y_preds = svm_grid.predict(X_valid)\n",
    "accuracy_score(y_valid,y_preds)"
   ]
  },
  {
   "cell_type": "code",
   "execution_count": 22,
   "metadata": {
    "ExecuteTime": {
     "end_time": "2022-02-21T07:15:30.396822Z",
     "start_time": "2022-02-21T07:15:30.250431Z"
    }
   },
   "outputs": [
    {
     "name": "stdout",
     "output_type": "stream",
     "text": [
      "                  precision    recall  f1-score   support\n",
      "\n",
      "quantumcomputing       0.83      0.89      0.86      1657\n",
      "       astronomy       0.84      0.96      0.90      1998\n",
      "     martialarts       0.97      0.67      0.79       213\n",
      "        opendata       0.96      0.85      0.90       251\n",
      "          sports       0.94      0.63      0.75       607\n",
      "              ai       0.94      0.60      0.74       373\n",
      "computergraphics       0.84      0.89      0.86      1113\n",
      "          coffee       0.94      0.93      0.93       936\n",
      "            beer       0.90      0.88      0.89      1034\n",
      "\n",
      "        accuracy                           0.87      8182\n",
      "       macro avg       0.91      0.81      0.85      8182\n",
      "    weighted avg       0.88      0.87      0.87      8182\n",
      "\n"
     ]
    }
   ],
   "source": [
    "\n",
    "print(metrics.classification_report(y_valid, y_preds,  target_names=_data.forum.unique()))"
   ]
  },
  {
   "cell_type": "code",
   "execution_count": 23,
   "metadata": {
    "ExecuteTime": {
     "end_time": "2022-02-21T07:15:31.827867Z",
     "start_time": "2022-02-21T07:15:30.401815Z"
    },
    "scrolled": true
   },
   "outputs": [
    {
     "data": {
      "image/png": "[encoded data removed]",
      "text/plain": [
       "<Figure size 1440x1440 with 2 Axes>"
      ]
     },
     "metadata": {
      "needs_background": "light"
     },
     "output_type": "display_data"
    }
   ],
   "source": [
    "import matplotlib.pyplot as plt\n",
    "fig, ax = plt.subplots(figsize=(20, 20))\n",
    "plot_confusion_matrix(svm_grid, X_valid, y_valid, ax= ax, cmap=plt.cm.Blues)  \n",
    "plt.show()"
   ]
  },
  {
   "cell_type": "markdown",
   "metadata": {},
   "source": [
    "#### LR"
   ]
  },
  {
   "cell_type": "code",
   "execution_count": 24,
   "metadata": {
    "ExecuteTime": {
     "end_time": "2022-02-21T07:21:55.182540Z",
     "start_time": "2022-02-21T07:15:31.829765Z"
    }
   },
   "outputs": [
    {
     "name": "stderr",
     "output_type": "stream",
     "text": [
      "[Parallel(n_jobs=1)]: Using backend SequentialBackend with 1 concurrent workers.\n",
      "[Parallel(n_jobs=1)]: Done   5 out of   5 | elapsed:  6.2min finished\n"
     ]
    },
    {
     "name": "stdout",
     "output_type": "stream",
     "text": [
      "CPU times: user 20min 39s, sys: 25min 33s, total: 46min 13s\n",
      "Wall time: 6min 23s\n"
     ]
    },
    {
     "data": {
      "text/plain": [
       "0.9099242239061354"
      ]
     },
     "execution_count": 24,
     "metadata": {},
     "output_type": "execute_result"
    }
   ],
   "source": [
    "#let try Logistic Regression\n",
    "from sklearn.linear_model import LogisticRegressionCV, LogisticRegression\n",
    "lr_clf = Pipeline([\n",
    "                    # ('pre_processing',TfidfVectorizer(lowercase=False)), \n",
    "                    ('vect', CountVectorizer()),\n",
    "                    ('tfidf', TfidfTransformer()),\n",
    "                    ('lr', LogisticRegressionCV(verbose=True))\n",
    "                    ])\n",
    "%time lr_clf.fit(X_train, y_train)\n",
    "# test model performance on valid data \n",
    "y_preds = lr_clf.predict(X_valid)\n",
    "accuracy_score(y_valid,y_preds)"
   ]
  },
  {
   "cell_type": "code",
   "execution_count": 34,
   "metadata": {
    "ExecuteTime": {
     "end_time": "2022-02-21T07:22:22.346740Z",
     "start_time": "2022-02-21T07:22:09.993456Z"
    }
   },
   "outputs": [
    {
     "name": "stdout",
     "output_type": "stream",
     "text": [
      "Fitting 5 folds for each of 8 candidates, totalling 40 fits\n"
     ]
    },
    {
     "data": {
      "text/plain": [
       "0.8571253972133953"
      ]
     },
     "execution_count": 34,
     "metadata": {},
     "output_type": "execute_result"
    }
   ],
   "source": [
    "# lets add grid search\n",
    "\n",
    "params = { \n",
    "            'vect__ngram_range': [(1, 1), (1, 2)],\n",
    "            'tfidf__use_idf': (True, False),\n",
    "            'svm__alpha': (1e-2, 1e-3),\n",
    "}\n",
    "\n",
    "svm_grid = GridSearchCV(svm_clf, param_grid=params, n_jobs=-1, cv=5, verbose=5)\n",
    "svm_grid.fit(X_train, y_train)\n",
    "y_preds = svm_grid.predict(X_valid)\n",
    "accuracy_score(y_valid,y_preds)"
   ]
  },
  {
   "cell_type": "code",
   "execution_count": 26,
   "metadata": {
    "ExecuteTime": {
     "end_time": "2022-02-21T07:22:05.791010Z",
     "start_time": "2022-02-21T07:22:05.787606Z"
    }
   },
   "outputs": [],
   "source": [
    "import numpy as np\n",
    "import matplotlib.pyplot as plt\n",
    "from sklearn.naive_bayes import GaussianNB\n",
    "from sklearn.svm import SVC\n",
    "from sklearn.datasets import load_digits\n",
    "from sklearn.model_selection import learning_curve\n",
    "from sklearn.model_selection import ShuffleSplit\n"
   ]
  },
  {
   "cell_type": "code",
   "execution_count": 27,
   "metadata": {
    "ExecuteTime": {
     "end_time": "2022-02-21T07:22:05.797771Z",
     "start_time": "2022-02-21T07:22:05.793178Z"
    },
    "code_folding": [
     10
    ]
   },
   "outputs": [],
   "source": [
    "# def plot_learning_curve(\n",
    "#     estimator,\n",
    "#     title,\n",
    "#     X,\n",
    "#     y,\n",
    "#     axes=None,\n",
    "#     ylim=None,\n",
    "#     cv=None,\n",
    "#     n_jobs=None,\n",
    "#     train_sizes=np.linspace(0.1, 1.0, 5),\n",
    "# ):\n",
    "#     \"\"\"\n",
    "#     Generate 3 plots: the test and training learning curve, the training\n",
    "#     samples vs fit times curve, the fit times vs score curve.\n",
    "\n",
    "#     Parameters\n",
    "#     ----------\n",
    "#     estimator : estimator instance\n",
    "#         An estimator instance implementing `fit` and `predict` methods which\n",
    "#         will be cloned for each validation.\n",
    "\n",
    "#     title : str\n",
    "#         Title for the chart.\n",
    "\n",
    "#     X : array-like of shape (n_samples, n_features)\n",
    "#         Training vector, where ``n_samples`` is the number of samples and\n",
    "#         ``n_features`` is the number of features.\n",
    "\n",
    "#     y : array-like of shape (n_samples) or (n_samples, n_features)\n",
    "#         Target relative to ``X`` for classification or regression;\n",
    "#         None for unsupervised learning.\n",
    "\n",
    "#     axes : array-like of shape (3,), default=None\n",
    "#         Axes to use for plotting the curves.\n",
    "\n",
    "#     ylim : tuple of shape (2,), default=None\n",
    "#         Defines minimum and maximum y-values plotted, e.g. (ymin, ymax).\n",
    "\n",
    "#     cv : int, cross-validation generator or an iterable, default=None\n",
    "#         Determines the cross-validation splitting strategy.\n",
    "#         Possible inputs for cv are:\n",
    "\n",
    "#           - None, to use the default 5-fold cross-validation,\n",
    "#           - integer, to specify the number of folds.\n",
    "#           - :term:`CV splitter`,\n",
    "#           - An iterable yielding (train, test) splits as arrays of indices.\n",
    "\n",
    "#         For integer/None inputs, if ``y`` is binary or multiclass,\n",
    "#         :class:`StratifiedKFold` used. If the estimator is not a classifier\n",
    "#         or if ``y`` is neither binary nor multiclass, :class:`KFold` is used.\n",
    "\n",
    "#         Refer :ref:`User Guide <cross_validation>` for the various\n",
    "#         cross-validators that can be used here.\n",
    "\n",
    "#     n_jobs : int or None, default=None\n",
    "#         Number of jobs to run in parallel.\n",
    "#         ``None`` means 1 unless in a :obj:`joblib.parallel_backend` context.\n",
    "#         ``-1`` means using all processors. See :term:`Glossary <n_jobs>`\n",
    "#         for more details.\n",
    "\n",
    "#     train_sizes : array-like of shape (n_ticks,)\n",
    "#         Relative or absolute numbers of training examples that will be used to\n",
    "#         generate the learning curve. If the ``dtype`` is float, it is regarded\n",
    "#         as a fraction of the maximum size of the training set (that is\n",
    "#         determined by the selected validation method), i.e. it has to be within\n",
    "#         (0, 1]. Otherwise it is interpreted as absolute sizes of the training\n",
    "#         sets. Note that for classification the number of samples usually have\n",
    "#         to be big enough to contain at least one sample from each class.\n",
    "#         (default: np.linspace(0.1, 1.0, 5))\n",
    "#     \"\"\"\n",
    "#     if axes is None:\n",
    "#         _, axes = plt.subplots(1, 3, figsize=(20, 5))\n",
    "\n",
    "#     axes[0].set_title(title)\n",
    "#     if ylim is not None:\n",
    "#         axes[0].set_ylim(*ylim)\n",
    "#     axes[0].set_xlabel(\"Training examples\")\n",
    "#     axes[0].set_ylabel(\"Score\")\n",
    "\n",
    "#     train_sizes, train_scores, test_scores, fit_times, _ = learning_curve(\n",
    "#         estimator,\n",
    "#         X,\n",
    "#         y,\n",
    "#         cv=cv,\n",
    "#         n_jobs=n_jobs,\n",
    "#         train_sizes=train_sizes,\n",
    "#         return_times=True,\n",
    "#     )\n",
    "#     train_scores_mean = np.mean(train_scores, axis=1)\n",
    "#     train_scores_std = np.std(train_scores, axis=1)\n",
    "#     test_scores_mean = np.mean(test_scores, axis=1)\n",
    "#     test_scores_std = np.std(test_scores, axis=1)\n",
    "#     fit_times_mean = np.mean(fit_times, axis=1)\n",
    "#     fit_times_std = np.std(fit_times, axis=1)\n",
    "\n",
    "#     # Plot learning curve\n",
    "#     axes[0].grid()\n",
    "#     axes[0].fill_between(\n",
    "#         train_sizes,\n",
    "#         train_scores_mean - train_scores_std,\n",
    "#         train_scores_mean + train_scores_std,\n",
    "#         alpha=0.1,\n",
    "#         color=\"r\",\n",
    "#     )\n",
    "#     axes[0].fill_between(\n",
    "#         train_sizes,\n",
    "#         test_scores_mean - test_scores_std,\n",
    "#         test_scores_mean + test_scores_std,\n",
    "#         alpha=0.1,\n",
    "#         color=\"g\",\n",
    "#     )\n",
    "#     axes[0].plot(\n",
    "#         train_sizes, train_scores_mean, \"o-\", color=\"r\", label=\"Training score\"\n",
    "#     )\n",
    "#     axes[0].plot(\n",
    "#         train_sizes, test_scores_mean, \"o-\", color=\"g\", label=\"Cross-validation score\"\n",
    "#     )\n",
    "#     axes[0].legend(loc=\"best\")\n",
    "\n",
    "#     # Plot n_samples vs fit_times\n",
    "#     axes[1].grid()\n",
    "#     axes[1].plot(train_sizes, fit_times_mean, \"o-\")\n",
    "#     axes[1].fill_between(\n",
    "#         train_sizes,\n",
    "#         fit_times_mean - fit_times_std,\n",
    "#         fit_times_mean + fit_times_std,\n",
    "#         alpha=0.1,\n",
    "#     )\n",
    "#     axes[1].set_xlabel(\"Training examples\")\n",
    "#     axes[1].set_ylabel(\"fit_times\")\n",
    "#     axes[1].set_title(\"Scalability of the model\")\n",
    "\n",
    "#     # Plot fit_time vs score\n",
    "#     fit_time_argsort = fit_times_mean.argsort()\n",
    "#     fit_time_sorted = fit_times_mean[fit_time_argsort]\n",
    "#     test_scores_mean_sorted = test_scores_mean[fit_time_argsort]\n",
    "#     test_scores_std_sorted = test_scores_std[fit_time_argsort]\n",
    "#     axes[2].grid()\n",
    "#     axes[2].plot(fit_time_sorted, test_scores_mean_sorted, \"o-\")\n",
    "#     axes[2].fill_between(\n",
    "#         fit_time_sorted,\n",
    "#         test_scores_mean_sorted - test_scores_std_sorted,\n",
    "#         test_scores_mean_sorted + test_scores_std_sorted,\n",
    "#         alpha=0.1,\n",
    "#     )\n",
    "#     axes[2].set_xlabel(\"fit_times\")\n",
    "#     axes[2].set_ylabel(\"Score\")\n",
    "#     axes[2].set_title(\"Performance of the model\")\n",
    "\n",
    "#     return plt\n",
    "\n",
    "\n",
    "# fig, axes = plt.subplots(3, 2, figsize=(10, 15))\n",
    "\n",
    "# X, y = load_digits(return_X_y=True)\n",
    "\n",
    "# title = \"Learning Curves (Naive Bayes)\"\n",
    "# # Cross validation with 50 iterations to get smoother mean test and train\n",
    "# # score curves, each time with 20% data randomly selected as a validation set.\n",
    "# cv = ShuffleSplit(n_splits=50, test_size=0.2, random_state=0)\n",
    "\n",
    "# estimator = GaussianNB()\n",
    "# plot_learning_curve(\n",
    "#     estimator, title, X, y, axes=axes[:, 0], ylim=(0.7, 1.01), cv=cv, n_jobs=4\n",
    "# )\n",
    "\n",
    "# title = r\"Learning Curves (SVM, RBF kernel, $\\gamma=0.001$)\"\n",
    "# # SVC is more expensive so we do a lower number of CV iterations:\n",
    "# cv = ShuffleSplit(n_splits=5, test_size=0.2, random_state=0)\n",
    "# estimator = SVC(gamma=0.001)\n",
    "# plot_learning_curve(\n",
    "#     estimator, title, X, y, axes=axes[:, 1], ylim=(0.7, 1.01), cv=cv, n_jobs=4\n",
    "# )\n",
    "\n",
    "# plt.show()"
   ]
  },
  {
   "cell_type": "code",
   "execution_count": 28,
   "metadata": {
    "ExecuteTime": {
     "end_time": "2022-02-21T07:22:05.801881Z",
     "start_time": "2022-02-21T07:22:05.799676Z"
    }
   },
   "outputs": [],
   "source": [
    "# from collections import Counter\n",
    "# Counter(y_valid)"
   ]
  },
  {
   "cell_type": "markdown",
   "metadata": {
    "heading_collapsed": true
   },
   "source": [
    "## FAST TEXT"
   ]
  },
  {
   "cell_type": "code",
   "execution_count": 29,
   "metadata": {
    "ExecuteTime": {
     "end_time": "2022-02-21T07:22:05.821220Z",
     "start_time": "2022-02-21T07:22:05.803758Z"
    },
    "hidden": true
   },
   "outputs": [
    {
     "data": {
      "text/html": [
       "<div>\n",
       "<style scoped>\n",
       "    .dataframe tbody tr th:only-of-type {\n",
       "        vertical-align: middle;\n",
       "    }\n",
       "\n",
       "    .dataframe tbody tr th {\n",
       "        vertical-align: top;\n",
       "    }\n",
       "\n",
       "    .dataframe thead th {\n",
       "        text-align: right;\n",
       "    }\n",
       "</style>\n",
       "<table border=\"1\" class=\"dataframe\">\n",
       "  <thead>\n",
       "    <tr style=\"text-align: right;\">\n",
       "      <th></th>\n",
       "      <th>forum</th>\n",
       "      <th>question</th>\n",
       "      <th>license</th>\n",
       "      <th>cleaned_question</th>\n",
       "    </tr>\n",
       "  </thead>\n",
       "  <tbody>\n",
       "    <tr>\n",
       "      <th>0</th>\n",
       "      <td>quantumcomputing</td>\n",
       "      <td>What is the difference between a qudit system ...</td>\n",
       "      <td>CC BY-SA 4.0</td>\n",
       "      <td>difference qudit system two qubit system</td>\n",
       "    </tr>\n",
       "    <tr>\n",
       "      <th>1</th>\n",
       "      <td>astronomy</td>\n",
       "      <td>What does the Sun look like from the heliopause?</td>\n",
       "      <td>CC BY-SA 4.0</td>\n",
       "      <td>sun look like heliopause</td>\n",
       "    </tr>\n",
       "    <tr>\n",
       "      <th>2</th>\n",
       "      <td>martialarts</td>\n",
       "      <td>How to cope with rival that carries stone or f...</td>\n",
       "      <td>CC BY-SA 3.0</td>\n",
       "      <td>cope rival carries stone folding chair klappst...</td>\n",
       "    </tr>\n",
       "    <tr>\n",
       "      <th>3</th>\n",
       "      <td>opendata</td>\n",
       "      <td>Is there an emotion speech detection - accurat...</td>\n",
       "      <td>CC BY-SA 3.0</td>\n",
       "      <td>emotion speech detection accurate classifier l...</td>\n",
       "    </tr>\n",
       "    <tr>\n",
       "      <th>4</th>\n",
       "      <td>astronomy</td>\n",
       "      <td>Is it possible to steer the sight of a Liquid ...</td>\n",
       "      <td>CC BY-SA 3.0</td>\n",
       "      <td>possible steer sight liquid mirror telescope u...</td>\n",
       "    </tr>\n",
       "  </tbody>\n",
       "</table>\n",
       "</div>"
      ],
      "text/plain": [
       "              forum                                           question  \\\n",
       "0  quantumcomputing  What is the difference between a qudit system ...   \n",
       "1         astronomy   What does the Sun look like from the heliopause?   \n",
       "2       martialarts  How to cope with rival that carries stone or f...   \n",
       "3          opendata  Is there an emotion speech detection - accurat...   \n",
       "4         astronomy  Is it possible to steer the sight of a Liquid ...   \n",
       "\n",
       "        license                                   cleaned_question  \n",
       "0  CC BY-SA 4.0           difference qudit system two qubit system  \n",
       "1  CC BY-SA 4.0                           sun look like heliopause  \n",
       "2  CC BY-SA 3.0  cope rival carries stone folding chair klappst...  \n",
       "3  CC BY-SA 3.0  emotion speech detection accurate classifier l...  \n",
       "4  CC BY-SA 3.0  possible steer sight liquid mirror telescope u...  "
      ]
     },
     "execution_count": 29,
     "metadata": {},
     "output_type": "execute_result"
    }
   ],
   "source": [
    "fast_data = _data.copy()\n",
    "fast_data.head()"
   ]
  },
  {
   "cell_type": "code",
   "execution_count": 30,
   "metadata": {
    "ExecuteTime": {
     "end_time": "2022-02-21T07:22:06.386164Z",
     "start_time": "2022-02-21T07:22:05.823191Z"
    },
    "hidden": true
   },
   "outputs": [
    {
     "data": {
      "text/html": [
       "<div>\n",
       "<style scoped>\n",
       "    .dataframe tbody tr th:only-of-type {\n",
       "        vertical-align: middle;\n",
       "    }\n",
       "\n",
       "    .dataframe tbody tr th {\n",
       "        vertical-align: top;\n",
       "    }\n",
       "\n",
       "    .dataframe thead th {\n",
       "        text-align: right;\n",
       "    }\n",
       "</style>\n",
       "<table border=\"1\" class=\"dataframe\">\n",
       "  <thead>\n",
       "    <tr style=\"text-align: right;\">\n",
       "      <th></th>\n",
       "      <th>questions</th>\n",
       "      <th>category</th>\n",
       "    </tr>\n",
       "  </thead>\n",
       "  <tbody>\n",
       "    <tr>\n",
       "      <th>12829</th>\n",
       "      <td>how do we know that the intrinsic brightness o...</td>\n",
       "      <td>__label__astronomy</td>\n",
       "    </tr>\n",
       "    <tr>\n",
       "      <th>23421</th>\n",
       "      <td>how can the expectation maximization improve t...</td>\n",
       "      <td>__label__ai</td>\n",
       "    </tr>\n",
       "    <tr>\n",
       "      <th>18211</th>\n",
       "      <td>what is the minimum mass of celestial object s...</td>\n",
       "      <td>__label__astronomy</td>\n",
       "    </tr>\n",
       "    <tr>\n",
       "      <th>23405</th>\n",
       "      <td>can quasars generate heavy elements</td>\n",
       "      <td>__label__astronomy</td>\n",
       "    </tr>\n",
       "    <tr>\n",
       "      <th>6789</th>\n",
       "      <td>why don we use trigonometric functions for the...</td>\n",
       "      <td>__label__ai</td>\n",
       "    </tr>\n",
       "  </tbody>\n",
       "</table>\n",
       "</div>"
      ],
      "text/plain": [
       "                                               questions            category\n",
       "12829  how do we know that the intrinsic brightness o...  __label__astronomy\n",
       "23421  how can the expectation maximization improve t...         __label__ai\n",
       "18211  what is the minimum mass of celestial object s...  __label__astronomy\n",
       "23405                can quasars generate heavy elements  __label__astronomy\n",
       "6789   why don we use trigonometric functions for the...         __label__ai"
      ]
     },
     "execution_count": 30,
     "metadata": {},
     "output_type": "execute_result"
    }
   ],
   "source": [
    "# Text Classification with fastText\n",
    "# Importing libraries\n",
    "import numpy as np, pandas as pd\n",
    "from sklearn.utils import shuffle\n",
    "\n",
    "# NLP Preprocessing\n",
    "from gensim.utils import simple_preprocess\n",
    "\n",
    "# Importing the dataset\n",
    "dataset = fast_data[['question', 'forum']].rename(columns = {'forum': 'category', 'question': 'questions'})\n",
    "# NLP Preprocess\n",
    "dataset.iloc[:, 0] = dataset.iloc[:, 0].apply(lambda x: ' '.join(simple_preprocess(x)))\n",
    "# Prefixing each row of the category column with '__label__'\n",
    "dataset.iloc[:, 1] = dataset.iloc[:, 1].apply(lambda x: '__label__' + x)\n",
    "\n",
    "dataset = shuffle(dataset)\n",
    "dataset.head()"
   ]
  },
  {
   "cell_type": "code",
   "execution_count": 31,
   "metadata": {
    "ExecuteTime": {
     "end_time": "2022-02-21T07:22:06.445424Z",
     "start_time": "2022-02-21T07:22:06.387398Z"
    },
    "hidden": true
   },
   "outputs": [],
   "source": [
    "X = dataset[\"questions\"]\n",
    "y = dataset.category.values\n",
    "X_train, X_valid, y_train, y_valid = train_test_split(\n",
    "    X,\n",
    "    y,\n",
    "    test_size=0.20,\n",
    "#     random_state=42,\n",
    "    shuffle=True,\n",
    "    stratify=y,\n",
    ")"
   ]
  },
  {
   "cell_type": "code",
   "execution_count": 32,
   "metadata": {
    "ExecuteTime": {
     "end_time": "2022-02-21T07:22:06.563140Z",
     "start_time": "2022-02-21T07:22:06.447075Z"
    },
    "hidden": true
   },
   "outputs": [],
   "source": [
    "import csv\n",
    "TRAIN_DF = pd.DataFrame(X_train, columns=['questions','category'])\n",
    "TRAIN_DF['category'] = y_train\n",
    "TEST_DF = pd.DataFrame(X_valid, columns=['questions','category'])\n",
    "TEST_DF['category'] = y_valid\n",
    "TRAIN_DF[['category', 'questions']].to_csv('train.txt', \n",
    "                                          index = False, \n",
    "                                          sep = ' ',\n",
    "                                          header = None, \n",
    "                                          quoting = csv.QUOTE_NONE, \n",
    "                                          quotechar = \"\", \n",
    "                                          escapechar = \" \")\n",
    "\n",
    "TEST_DF[['category', 'questions']].to_csv('test.txt', \n",
    "                                     index = False, \n",
    "                                     sep = ' ',\n",
    "                                     header = None, \n",
    "                                     quoting = csv.QUOTE_NONE, \n",
    "                                     quotechar = \"\", \n",
    "                                     escapechar = \" \")"
   ]
  },
  {
   "cell_type": "code",
   "execution_count": 35,
   "metadata": {
    "ExecuteTime": {
     "end_time": "2022-02-21T07:22:39.665201Z",
     "start_time": "2022-02-21T07:22:39.226968Z"
    },
    "hidden": true
   },
   "outputs": [
    {
     "data": {
      "text/plain": [
       "(8182, 0.9060131997066732, 0.9060131997066732)"
      ]
     },
     "execution_count": 35,
     "metadata": {},
     "output_type": "execute_result"
    }
   ],
   "source": [
    "import fasttext\n",
    "model = fasttext.train_supervised('train.txt', \n",
    "                                 # autotuneValidationFile='test.txt'\n",
    "                                  )\n",
    "\n",
    "# Evaluating performance on the entire test file\n",
    "model.test('test.txt')                      \n",
    "\n",
    "# # Predicting on a single input\n",
    "# model.predict(TEST_DF.iloc[2, 0])\n",
    "\n",
    "# Save the trained model\n",
    "#model.save_model('model.bin')"
   ]
  },
  {
   "cell_type": "code",
   "execution_count": 79,
   "metadata": {
    "ExecuteTime": {
     "end_time": "2022-02-20T20:57:46.667301Z",
     "start_time": "2022-02-20T20:57:46.663373Z"
    },
    "hidden": true
   },
   "outputs": [
    {
     "data": {
      "text/plain": [
       "'what does filing retirement papers actually mean'"
      ]
     },
     "execution_count": 79,
     "metadata": {},
     "output_type": "execute_result"
    }
   ],
   "source": [
    "TEST_DF.iloc[2, 0]"
   ]
  },
  {
   "cell_type": "markdown",
   "metadata": {
    "ExecuteTime": {
     "end_time": "2022-02-18T18:41:20.144224Z",
     "start_time": "2022-02-18T18:41:20.140163Z"
    }
   },
   "source": [
    "## FAST API METHOD"
   ]
  },
  {
   "cell_type": "code",
   "execution_count": 51,
   "metadata": {
    "ExecuteTime": {
     "end_time": "2022-02-21T07:30:23.049020Z",
     "start_time": "2022-02-21T07:30:22.872554Z"
    }
   },
   "outputs": [
    {
     "data": {
      "text/plain": [
       "['./forum_classifer.pkl']"
      ]
     },
     "execution_count": 51,
     "metadata": {},
     "output_type": "execute_result"
    }
   ],
   "source": [
    "import joblib \n",
    "joblib.dump(multinomial_nb_grid, './forum_classifer.pkl')"
   ]
  },
  {
   "cell_type": "code",
   "execution_count": 52,
   "metadata": {
    "ExecuteTime": {
     "end_time": "2022-02-21T07:30:25.034725Z",
     "start_time": "2022-02-21T07:30:25.031760Z"
    }
   },
   "outputs": [],
   "source": [
    "# text preprocessing modules\n",
    "from string import punctuation \n",
    "# text preprocessing modules\n",
    "from nltk.tokenize import word_tokenize\n",
    "import nltk\n",
    "from nltk.corpus import stopwords\n",
    "from nltk.stem import WordNetLemmatizer\n",
    "import re  # regular expression\n",
    "import os\n",
    "from os.path import dirname, join, realpath\n",
    "import joblib\n",
    "import uvicorn\n",
    "from fastapi import FastAPI"
   ]
  },
  {
   "cell_type": "code",
   "execution_count": 53,
   "metadata": {
    "ExecuteTime": {
     "end_time": "2022-02-21T07:30:27.161937Z",
     "start_time": "2022-02-21T07:30:27.159722Z"
    }
   },
   "outputs": [],
   "source": [
    "app = FastAPI(\n",
    "    title=\"Question Souce Model API\",\n",
    "    description=\"A simple API that uses NLP model to predict the forum to which a question is coming from\",\n",
    "    version=\"0.1\",\n",
    ")"
   ]
  },
  {
   "cell_type": "code",
   "execution_count": 54,
   "metadata": {
    "ExecuteTime": {
     "end_time": "2022-02-21T07:30:30.224253Z",
     "start_time": "2022-02-21T07:30:30.127924Z"
    }
   },
   "outputs": [],
   "source": [
    "# load the sentiment model\n",
    "with open(\n",
    "    join(\"forum_classifer.pkl\"), \"rb\"\n",
    ") as f:\n",
    "    model = joblib.load(f)"
   ]
  },
  {
   "cell_type": "code",
   "execution_count": 99,
   "metadata": {
    "ExecuteTime": {
     "end_time": "2022-02-21T07:56:05.881395Z",
     "start_time": "2022-02-21T07:56:05.872607Z"
    }
   },
   "outputs": [
    {
     "data": {
      "text/plain": [
       "{'prediction': 'coffee', 'Probability': '0.73'}"
      ]
     },
     "execution_count": 99,
     "metadata": {},
     "output_type": "execute_result"
    }
   ],
   "source": [
    "@app.get(\"/predict-review\")\n",
    "def predict_sentiment(review: str):\n",
    "    \"\"\"\n",
    "    A simple function that receive a review content and predict the sentiment of the content.\n",
    "    :param review:\n",
    "    :return: prediction, probabilities\n",
    "    \"\"\"\n",
    "    # clean the review\n",
    "    cleaned_review = clean_text(review)\n",
    "    \n",
    "    # perform prediction\n",
    "    prediction = model.predict([cleaned_review])\n",
    "    \n",
    "    #get the output of the prediction\n",
    "    output = prediction[0]\n",
    "    probas = model.predict_proba([cleaned_review])\n",
    "    class_index = list(model.classes_).index(output)\n",
    "    output_probability = \"{:.2f}\".format(float(probas[:, class_index]))\n",
    "    \n",
    "#     # show results\n",
    "    result = {\"prediction\": output, \"Probability\": output_probability}\n",
    "    return result\n",
    "predict_sentiment('I will have sugar in it, and make it smell good')"
   ]
  },
  {
   "cell_type": "code",
   "execution_count": null,
   "metadata": {
    "ExecuteTime": {
     "end_time": "2022-02-21T07:55:45.795963Z",
     "start_time": "2022-02-21T07:55:45.792839Z"
    }
   },
   "outputs": [],
   "source": []
  },
  {
   "cell_type": "code",
   "execution_count": null,
   "metadata": {
    "ExecuteTime": {
     "end_time": "2022-02-21T07:32:25.079266Z",
     "start_time": "2022-02-21T07:32:25.065315Z"
    }
   },
   "outputs": [],
   "source": []
  },
  {
   "cell_type": "code",
   "execution_count": null,
   "metadata": {
    "ExecuteTime": {
     "end_time": "2022-02-18T19:01:33.641569Z",
     "start_time": "2022-02-18T19:01:33.636773Z"
    }
   },
   "outputs": [],
   "source": [
    "uvicorn main:app --reload"
   ]
  },
  {
   "cell_type": "markdown",
   "metadata": {
    "ExecuteTime": {
     "end_time": "2022-02-18T19:33:01.207838Z",
     "start_time": "2022-02-18T19:33:01.201985Z"
    },
    "heading_collapsed": true
   },
   "source": [
    "## AUTOML WITH H20"
   ]
  },
  {
   "cell_type": "code",
   "execution_count": null,
   "metadata": {
    "ExecuteTime": {
     "end_time": "2022-02-18T20:10:04.178488Z",
     "start_time": "2022-02-18T20:09:59.742583Z"
    },
    "hidden": true
   },
   "outputs": [],
   "source": [
    "import h2o\n",
    "from h2o.automl import H2OAutoML\n",
    "h2o.init(max_mem_size='8G')\n",
    "get_ipython().run_line_magic('pinfo', 'h2o.init')"
   ]
  },
  {
   "cell_type": "code",
   "execution_count": null,
   "metadata": {
    "ExecuteTime": {
     "end_time": "2022-02-18T20:10:09.966787Z",
     "start_time": "2022-02-18T20:10:09.927705Z"
    },
    "hidden": true
   },
   "outputs": [],
   "source": [
    "_data.columns"
   ]
  },
  {
   "cell_type": "code",
   "execution_count": null,
   "metadata": {
    "ExecuteTime": {
     "end_time": "2022-02-18T20:35:21.626453Z",
     "start_time": "2022-02-18T20:35:21.055010Z"
    },
    "hidden": true
   },
   "outputs": [],
   "source": [
    "raw_data['question'] = raw_data['question'].astype(str)\n",
    "df = h2o.H2OFrame(raw_data)\n",
    "df.head()"
   ]
  },
  {
   "cell_type": "code",
   "execution_count": null,
   "metadata": {
    "ExecuteTime": {
     "end_time": "2022-02-18T20:38:42.775864Z",
     "start_time": "2022-02-18T20:37:36.896834Z"
    },
    "hidden": true
   },
   "outputs": [],
   "source": [
    "d1, d2 = df.split_frame(ratios=[0.75])\n",
    "# train = splits[0]\n",
    "# test = splits[1]\n",
    "\n",
    "y = \"forum\" \n",
    "x = df.columns\n",
    "x.remove(y)\n",
    "aml = H2OAutoML(max_runtime_secs=60, \n",
    "                balance_classes= True, \n",
    "                project_name='doc_classification',\n",
    "                stopping_metric= 'logloss',\n",
    "                keep_cross_validation_predictions=True,\n",
    "                )\n",
    "%time aml.train(x= x, y=y, training_frame = d1)\n"
   ]
  },
  {
   "cell_type": "code",
   "execution_count": null,
   "metadata": {
    "ExecuteTime": {
     "end_time": "2022-02-18T20:39:27.142862Z",
     "start_time": "2022-02-18T20:39:27.130339Z"
    },
    "hidden": true
   },
   "outputs": [],
   "source": [
    "aml.leaderboard"
   ]
  },
  {
   "cell_type": "code",
   "execution_count": null,
   "metadata": {
    "ExecuteTime": {
     "end_time": "2022-02-18T20:10:45.513723Z",
     "start_time": "2022-02-18T20:10:45.004621Z"
    },
    "hidden": true
   },
   "outputs": [],
   "source": []
  },
  {
   "cell_type": "code",
   "execution_count": null,
   "metadata": {
    "hidden": true
   },
   "outputs": [],
   "source": []
  }
 ],
 "metadata": {
  "kernelspec": {
   "display_name": "Python 3.8.2 64-bit ('venv_data_science': venv)",
   "language": "python",
   "name": "python38264bitvenvdatasciencevenvfe774d4a20ba4eb38fb5493070c733d7"
  },
  "varInspector": {
   "cols": {
    "lenName": 16,
    "lenType": 16,
    "lenVar": 40
   },
   "kernels_config": {
    "python": {
     "delete_cmd_postfix": "",
     "delete_cmd_prefix": "del ",
     "library": "var_list.py",
     "varRefreshCmd": "print(var_dic_list())"
    },
    "r": {
     "delete_cmd_postfix": ") ",
     "delete_cmd_prefix": "rm(",
     "library": "var_list.r",
     "varRefreshCmd": "cat(var_dic_list()) "
    }
   },
   "types_to_exclude": [
    "module",
    "function",
    "builtin_function_or_method",
    "instance",
    "_Feature"
   ],
   "window_display": false
  }
 },
 "nbformat": 4,
 "nbformat_minor": 4
}
