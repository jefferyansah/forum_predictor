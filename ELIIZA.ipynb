{
 "cells": [
  {
   "cell_type": "markdown",
   "metadata": {},
   "source": [
    "Use the dataset in `./dataset/questions.csv` to develop a classifier to predict the forum based on the question body. Your objective is to maximise the model’s performance, however, we encourage you to avoid spending time training multiple models. You are free to preprocess the data as you like and use any classification algorithms. Produce a Jupyter Notebook that includes all code, details, and decisions made over the course of your model development.\n",
    "\n"
   ]
  },
  {
   "cell_type": "code",
   "execution_count": 23,
   "metadata": {
    "ExecuteTime": {
     "end_time": "2022-02-20T19:39:49.871470Z",
     "start_time": "2022-02-20T19:39:49.860929Z"
    },
    "code_folding": [
     11,
     26
    ]
   },
   "outputs": [
    {
     "name": "stderr",
     "output_type": "stream",
     "text": [
      "[nltk_data] Downloading package brown to\n",
      "[nltk_data]     /home/nightingale/nltk_data...\n",
      "[nltk_data]   Package brown is already up-to-date!\n",
      "[nltk_data] Downloading package names to\n",
      "[nltk_data]     /home/nightingale/nltk_data...\n",
      "[nltk_data]   Package names is already up-to-date!\n",
      "[nltk_data] Downloading package wordnet to\n",
      "[nltk_data]     /home/nightingale/nltk_data...\n",
      "[nltk_data]   Package wordnet is already up-to-date!\n",
      "[nltk_data] Downloading package averaged_perceptron_tagger to\n",
      "[nltk_data]     /home/nightingale/nltk_data...\n",
      "[nltk_data]   Package averaged_perceptron_tagger is already up-to-\n",
      "[nltk_data]       date!\n",
      "[nltk_data] Downloading package universal_tagset to\n",
      "[nltk_data]     /home/nightingale/nltk_data...\n",
      "[nltk_data]   Package universal_tagset is already up-to-date!\n"
     ]
    }
   ],
   "source": [
    "import pandas as pd\n",
    "import re\n",
    "import warnings\n",
    "import nltk\n",
    "warnings.filterwarnings('ignore')\n",
    "import numpy as np\n",
    "import pandas as pd\n",
    "# sklearn modules\n",
    "from sklearn.model_selection import train_test_split\n",
    "from sklearn.pipeline import Pipeline\n",
    "from sklearn.naive_bayes import MultinomialNB # classifier \n",
    "from sklearn.metrics import (\n",
    "    accuracy_score,\n",
    "    classification_report,\n",
    "    plot_confusion_matrix,\n",
    ")\n",
    "from sklearn.feature_extraction.text import TfidfVectorizer, CountVectorizer\n",
    "# text preprocessing modules\n",
    "from string import punctuation \n",
    "# text preprocessing modules\n",
    "from nltk.tokenize import word_tokenize\n",
    "import nltk\n",
    "from nltk.corpus import stopwords\n",
    "from nltk.stem import WordNetLemmatizer \n",
    "import re #regular expression\n",
    "# Download dependency\n",
    "for dependency in (\n",
    "    \"brown\",\n",
    "    \"names\",\n",
    "    \"wordnet\",\n",
    "    \"averaged_perceptron_tagger\",\n",
    "    \"universal_tagset\",\n",
    "):\n",
    "    nltk.download(dependency)\n",
    "    \n",
    "import warnings\n",
    "from sklearn import metrics\n",
    "warnings.filterwarnings(\"ignore\")\n",
    "# seeding\n",
    "np.random.seed(123)"
   ]
  },
  {
   "cell_type": "code",
   "execution_count": 3,
   "metadata": {
    "ExecuteTime": {
     "end_time": "2022-02-20T19:35:21.652644Z",
     "start_time": "2022-02-20T19:35:19.801132Z"
    }
   },
   "outputs": [
    {
     "data": {
      "text/html": [
       "<div>\n",
       "<style scoped>\n",
       "    .dataframe tbody tr th:only-of-type {\n",
       "        vertical-align: middle;\n",
       "    }\n",
       "\n",
       "    .dataframe tbody tr th {\n",
       "        vertical-align: top;\n",
       "    }\n",
       "\n",
       "    .dataframe thead th {\n",
       "        text-align: right;\n",
       "    }\n",
       "</style>\n",
       "<table border=\"1\" class=\"dataframe\">\n",
       "  <thead>\n",
       "    <tr style=\"text-align: right;\">\n",
       "      <th></th>\n",
       "      <th>forum</th>\n",
       "      <th>question</th>\n",
       "      <th>license</th>\n",
       "    </tr>\n",
       "  </thead>\n",
       "  <tbody>\n",
       "    <tr>\n",
       "      <th>0</th>\n",
       "      <td>quantumcomputing</td>\n",
       "      <td>What is the difference between a qudit system ...</td>\n",
       "      <td>CC BY-SA 4.0</td>\n",
       "    </tr>\n",
       "    <tr>\n",
       "      <th>1</th>\n",
       "      <td>astronomy</td>\n",
       "      <td>What does the Sun look like from the heliopause?</td>\n",
       "      <td>CC BY-SA 4.0</td>\n",
       "    </tr>\n",
       "    <tr>\n",
       "      <th>2</th>\n",
       "      <td>martialarts</td>\n",
       "      <td>How to cope with rival that carries stone or f...</td>\n",
       "      <td>CC BY-SA 3.0</td>\n",
       "    </tr>\n",
       "    <tr>\n",
       "      <th>3</th>\n",
       "      <td>opendata</td>\n",
       "      <td>Is there an emotion speech detection - accurat...</td>\n",
       "      <td>CC BY-SA 3.0</td>\n",
       "    </tr>\n",
       "    <tr>\n",
       "      <th>4</th>\n",
       "      <td>astronomy</td>\n",
       "      <td>Is it possible to steer the sight of a Liquid ...</td>\n",
       "      <td>CC BY-SA 3.0</td>\n",
       "    </tr>\n",
       "  </tbody>\n",
       "</table>\n",
       "</div>"
      ],
      "text/plain": [
       "              forum                                           question  \\\n",
       "0  quantumcomputing  What is the difference between a qudit system ...   \n",
       "1         astronomy   What does the Sun look like from the heliopause?   \n",
       "2       martialarts  How to cope with rival that carries stone or f...   \n",
       "3          opendata  Is there an emotion speech detection - accurat...   \n",
       "4         astronomy  Is it possible to steer the sight of a Liquid ...   \n",
       "\n",
       "        license  \n",
       "0  CC BY-SA 4.0  \n",
       "1  CC BY-SA 4.0  \n",
       "2  CC BY-SA 3.0  \n",
       "3  CC BY-SA 3.0  \n",
       "4  CC BY-SA 3.0  "
      ]
     },
     "execution_count": 3,
     "metadata": {},
     "output_type": "execute_result"
    }
   ],
   "source": [
    "#read the headless csv files from the repo and aissgn headers\n",
    "raw_data = pd.read_csv('https://raw.githubusercontent.com/eliiza/challenge-stack-exchange/main/dataset/questions.csv', dtype='str',\n",
    "                      names=['forum', 'question', 'license'])\n",
    "raw_data.head()"
   ]
  },
  {
   "cell_type": "markdown",
   "metadata": {},
   "source": [
    "## Data Exploration"
   ]
  },
  {
   "cell_type": "code",
   "execution_count": 4,
   "metadata": {
    "ExecuteTime": {
     "end_time": "2022-02-20T19:35:25.728392Z",
     "start_time": "2022-02-20T19:35:25.660530Z"
    },
    "scrolled": true
   },
   "outputs": [
    {
     "data": {
      "text/html": [
       "<div>\n",
       "<style scoped>\n",
       "    .dataframe tbody tr th:only-of-type {\n",
       "        vertical-align: middle;\n",
       "    }\n",
       "\n",
       "    .dataframe tbody tr th {\n",
       "        vertical-align: top;\n",
       "    }\n",
       "\n",
       "    .dataframe thead th {\n",
       "        text-align: right;\n",
       "    }\n",
       "</style>\n",
       "<table border=\"1\" class=\"dataframe\">\n",
       "  <thead>\n",
       "    <tr style=\"text-align: right;\">\n",
       "      <th></th>\n",
       "      <th>forum</th>\n",
       "      <th>question</th>\n",
       "      <th>license</th>\n",
       "    </tr>\n",
       "  </thead>\n",
       "  <tbody>\n",
       "    <tr>\n",
       "      <th>count</th>\n",
       "      <td>40918</td>\n",
       "      <td>40918</td>\n",
       "      <td>40918</td>\n",
       "    </tr>\n",
       "    <tr>\n",
       "      <th>unique</th>\n",
       "      <td>9</td>\n",
       "      <td>40907</td>\n",
       "      <td>2</td>\n",
       "    </tr>\n",
       "    <tr>\n",
       "      <th>top</th>\n",
       "      <td>astronomy</td>\n",
       "      <td>Why is automated theorem proving so hard?</td>\n",
       "      <td>CC BY-SA 4.0</td>\n",
       "    </tr>\n",
       "    <tr>\n",
       "      <th>freq</th>\n",
       "      <td>9995</td>\n",
       "      <td>2</td>\n",
       "      <td>21583</td>\n",
       "    </tr>\n",
       "  </tbody>\n",
       "</table>\n",
       "</div>"
      ],
      "text/plain": [
       "            forum                                   question       license\n",
       "count       40918                                      40918         40918\n",
       "unique          9                                      40907             2\n",
       "top     astronomy  Why is automated theorem proving so hard?  CC BY-SA 4.0\n",
       "freq         9995                                          2         21583"
      ]
     },
     "execution_count": 4,
     "metadata": {},
     "output_type": "execute_result"
    }
   ],
   "source": [
    "raw_data.describe()"
   ]
  },
  {
   "cell_type": "code",
   "execution_count": 5,
   "metadata": {
    "ExecuteTime": {
     "end_time": "2022-02-20T19:35:29.095846Z",
     "start_time": "2022-02-20T19:35:29.089596Z"
    }
   },
   "outputs": [
    {
     "data": {
      "text/plain": [
       "(40918, 3)"
      ]
     },
     "execution_count": 5,
     "metadata": {},
     "output_type": "execute_result"
    }
   ],
   "source": [
    "raw_data.shape"
   ]
  },
  {
   "cell_type": "code",
   "execution_count": 5,
   "metadata": {
    "ExecuteTime": {
     "end_time": "2022-02-19T00:19:20.025860Z",
     "start_time": "2022-02-19T00:19:20.015290Z"
    }
   },
   "outputs": [
    {
     "data": {
      "text/plain": [
       "forum       0\n",
       "question    0\n",
       "license     0\n",
       "dtype: int64"
      ]
     },
     "execution_count": 5,
     "metadata": {},
     "output_type": "execute_result"
    }
   ],
   "source": [
    "#check fro nulls\n",
    "raw_data.isnull().sum()"
   ]
  },
  {
   "cell_type": "code",
   "execution_count": 6,
   "metadata": {
    "ExecuteTime": {
     "end_time": "2022-02-20T19:35:35.821644Z",
     "start_time": "2022-02-20T19:35:35.811853Z"
    }
   },
   "outputs": [
    {
     "data": {
      "text/plain": [
       "astronomy           9995\n",
       "ai                  8287\n",
       "opendata            5566\n",
       "sports              5171\n",
       "quantumcomputing    4681\n",
       "computergraphics    3036\n",
       "martialarts         1863\n",
       "coffee              1254\n",
       "beer                1065\n",
       "Name: forum, dtype: int64"
      ]
     },
     "execution_count": 6,
     "metadata": {},
     "output_type": "execute_result"
    }
   ],
   "source": [
    "raw_data['forum'].value_counts()"
   ]
  },
  {
   "cell_type": "code",
   "execution_count": 7,
   "metadata": {
    "ExecuteTime": {
     "end_time": "2022-02-20T19:35:38.122509Z",
     "start_time": "2022-02-20T19:35:38.090407Z"
    }
   },
   "outputs": [
    {
     "data": {
      "text/plain": [
       "Why is automated theorem proving so hard?                                                         2\n",
       "Which is better for grinding coffee: Food processor or blender?                                   2\n",
       "Age of the universe                                                                               2\n",
       "How can I improve my endurance while skiing?                                                      2\n",
       "Taking a picture of Starlink satellites                                                           2\n",
       "                                                                                                 ..\n",
       "Classification with different approaches                                                          1\n",
       "Applications of Information Theory in Machine Learning                                            1\n",
       "Expansion of the universe and visibility of distant galaxies                                      1\n",
       "Why do different shapes of bokken exist?                                                          1\n",
       "Convert a PAC-learning algorithm into another one which requires no knowledge of the parameter    1\n",
       "Name: question, Length: 40907, dtype: int64"
      ]
     },
     "execution_count": 7,
     "metadata": {},
     "output_type": "execute_result"
    }
   ],
   "source": [
    "raw_data['question'].value_counts()\n"
   ]
  },
  {
   "cell_type": "code",
   "execution_count": 8,
   "metadata": {
    "ExecuteTime": {
     "end_time": "2022-02-20T19:35:41.974440Z",
     "start_time": "2022-02-20T19:35:41.946462Z"
    }
   },
   "outputs": [
    {
     "data": {
      "text/plain": [
       "question\n",
       "Age of the universe                                                             [astronomy]\n",
       "Could iron rain upset tidally locked WASP76b?                                   [astronomy]\n",
       "Dataset suggestions for teaching data science in a for-profit setting            [opendata]\n",
       "Do tides occur on planets like Neptune, having water?                           [astronomy]\n",
       "How can I improve my endurance while skiing?                                       [sports]\n",
       "Job Title Classification Training Data                                           [opendata]\n",
       "Source of aggressively toned texts for machine learning                          [opendata]\n",
       "Taking a picture of Starlink satellites                                         [astronomy]\n",
       "Where to get soccer data per period?                                     [opendata, sports]\n",
       "Which is better for grinding coffee: Food processor or blender?                    [coffee]\n",
       "Why is automated theorem proving so hard?                                              [ai]\n",
       "Name: forum, dtype: object"
      ]
     },
     "execution_count": 8,
     "metadata": {},
     "output_type": "execute_result"
    }
   ],
   "source": [
    "#quick snopping around shows that some of the questions have been repeated, \n",
    "#lets dive a bit deep to check if have different labels (this might not be good for our classifier)\n",
    "_check = raw_data[raw_data.duplicated(subset=['question'], keep= False)].sort_values(by = ['question'])\n",
    "_check.groupby(['question'])['forum'].apply(lambda x: list(np.unique(x)))"
   ]
  },
  {
   "cell_type": "code",
   "execution_count": 9,
   "metadata": {
    "ExecuteTime": {
     "end_time": "2022-02-20T19:35:57.139464Z",
     "start_time": "2022-02-20T19:35:57.116453Z"
    },
    "scrolled": true
   },
   "outputs": [],
   "source": [
    "#it makes sense to label `Where to get soccer data per period?` as  [opendata, sports].` \n",
    "#This shouldnt affect our classifier that much.\n",
    "#We will go ahead and drop duplicates anyway\n",
    "_data = raw_data.drop_duplicates(keep = 'first', subset=['forum', 'question']).reset_index(drop =True)\n"
   ]
  },
  {
   "cell_type": "code",
   "execution_count": 10,
   "metadata": {
    "ExecuteTime": {
     "end_time": "2022-02-20T19:35:59.776116Z",
     "start_time": "2022-02-20T19:35:59.770004Z"
    }
   },
   "outputs": [
    {
     "name": "stdout",
     "output_type": "stream",
     "text": [
      "40918 40908\n"
     ]
    }
   ],
   "source": [
    "#lets print the difference to make sure that we have drop the duplicates\n",
    "print(len(raw_data), len(_data))"
   ]
  },
  {
   "cell_type": "markdown",
   "metadata": {},
   "source": [
    "## Data Cleaning\n"
   ]
  },
  {
   "cell_type": "markdown",
   "metadata": {},
   "source": [
    "Cleaning Stategy: this is will influenced heavily by the type of model we would be to build. \n",
    "For eg. if our classifier is going to be using word tokens, then we go ahed and remove stopwords\n",
    "* remove special characters\n",
    "* convert to lowercase\n",
    "* "
   ]
  },
  {
   "cell_type": "code",
   "execution_count": 11,
   "metadata": {
    "ExecuteTime": {
     "end_time": "2022-02-19T00:19:20.141286Z",
     "start_time": "2022-02-19T00:19:20.139013Z"
    }
   },
   "outputs": [],
   "source": [
    "#lets test our regex for removing special characters\n",
    "# mystring = _data['question'].iloc[np.random.randint(0, len(_data), size=1)[0]]\n",
    "# print(mystring)\n",
    "# re.sub('[^A-Za-z0-9]+', ' ', mystring).strip()"
   ]
  },
  {
   "cell_type": "code",
   "execution_count": 11,
   "metadata": {
    "ExecuteTime": {
     "end_time": "2022-02-20T19:36:16.821953Z",
     "start_time": "2022-02-20T19:36:16.803947Z"
    }
   },
   "outputs": [],
   "source": [
    "stop_words =  stopwords.words('english')\n",
    "def clean_text(text, remove_stop_words=True, lemmatize_words=False):\n",
    "    \"\"\"\n",
    "        Put Doc Strings here\n",
    "    \"\"\"\n",
    "    # Clean the text, with the option to remove stop_words and to lemmatize word\n",
    "    # Clean the text\n",
    "    text = re.sub(r\"[^A-Za-z0-9]\", \" \", text)\n",
    "    text = re.sub(r\"\\'s\", \" \", text)\n",
    "    text =  re.sub(r'http\\S+',' link ', text)\n",
    "    text = re.sub(r'\\b\\d+(?:\\.\\d+)?\\s+', '', text) # remove numbers\n",
    "        \n",
    "    # Remove punctuation from text\n",
    "    text = ''.join([c.lower() for c in text if c not in punctuation])\n",
    "    \n",
    "    # Optionally, remove stop words\n",
    "    if remove_stop_words:\n",
    "        text = text.split()\n",
    "        text = [w for w in text if not w in stop_words]\n",
    "        text = \" \".join(text)\n",
    "    \n",
    "    # Optionally, shorten words to their stems\n",
    "    if lemmatize_words:\n",
    "        text = text.split()\n",
    "        lemmatizer = WordNetLemmatizer() \n",
    "        lemmatized_words = [lemmatizer.lemmatize(word) for word in text]\n",
    "        text = \" \".join(lemmatized_words)\n",
    "    \n",
    "    # Return a list of words\n",
    "    return(text)"
   ]
  },
  {
   "cell_type": "code",
   "execution_count": 13,
   "metadata": {
    "ExecuteTime": {
     "end_time": "2022-02-19T00:19:20.155696Z",
     "start_time": "2022-02-19T00:19:20.153623Z"
    }
   },
   "outputs": [],
   "source": [
    "# def remove_special_characters(x):\n",
    "#     return re.sub('[^A-Za-z0-9]+', ' ', x).strip().lower()\n",
    "\n",
    "# _data['question_cleaned'] = _data.apply(lambda x: remove_special_characters(x['question']), axis =1)"
   ]
  },
  {
   "cell_type": "code",
   "execution_count": 14,
   "metadata": {
    "ExecuteTime": {
     "end_time": "2022-02-20T19:37:53.429735Z",
     "start_time": "2022-02-20T19:37:51.909561Z"
    }
   },
   "outputs": [],
   "source": [
    "# t = _data['question'].iloc[np.random.randint(0, len(_data), size=1)[0]]tex\n",
    "_data[\"cleaned_question\"] = _data.apply(lambda x:clean_text(x[\"question\"], remove_stop_words=True, lemmatize_words=False), axis=1)\n"
   ]
  },
  {
   "cell_type": "markdown",
   "metadata": {},
   "source": [
    "### DATA MODELLING\n"
   ]
  },
  {
   "cell_type": "markdown",
   "metadata": {},
   "source": [
    "Tfidftransformer vs. Tfidfvectorizer\n",
    "In summary, the main difference between the two modules are as follows:\n",
    "\n",
    "With Tfidftransformer you will systematically compute word counts using CountVectorizer and \n",
    "then compute the Inverse Document Frequency (IDF) values and only then compute the Tf-idf scores.\n",
    "\n"
   ]
  },
  {
   "cell_type": "code",
   "execution_count": 15,
   "metadata": {
    "ExecuteTime": {
     "end_time": "2022-02-20T19:37:58.934351Z",
     "start_time": "2022-02-20T19:37:58.931549Z"
    }
   },
   "outputs": [],
   "source": [
    "from sklearn.pipeline import Pipeline\n",
    "from sklearn.feature_extraction.text import TfidfTransformer\n",
    "from sklearn.model_selection import GridSearchCV"
   ]
  },
  {
   "cell_type": "code",
   "execution_count": 16,
   "metadata": {
    "ExecuteTime": {
     "end_time": "2022-02-20T19:38:02.601732Z",
     "start_time": "2022-02-20T19:38:02.546747Z"
    }
   },
   "outputs": [],
   "source": [
    "X = _data[\"cleaned_question\"]\n",
    "y = _data.forum.values\n",
    "X_train, X_valid, y_train, y_valid = train_test_split(\n",
    "    X,\n",
    "    y,\n",
    "    test_size=0.20,\n",
    "#     random_state=42,\n",
    "    shuffle=True,\n",
    "    stratify=y,\n",
    ")"
   ]
  },
  {
   "cell_type": "code",
   "execution_count": null,
   "metadata": {
    "ExecuteTime": {
     "end_time": "2022-02-20T19:38:14.433468Z",
     "start_time": "2022-02-20T19:38:14.423726Z"
    }
   },
   "outputs": [],
   "source": []
  },
  {
   "cell_type": "markdown",
   "metadata": {
    "ExecuteTime": {
     "end_time": "2022-02-19T01:12:18.271375Z",
     "start_time": "2022-02-19T01:12:18.264248Z"
    }
   },
   "source": [
    "#### Naive Bayes"
   ]
  },
  {
   "cell_type": "code",
   "execution_count": 24,
   "metadata": {
    "ExecuteTime": {
     "end_time": "2022-02-20T19:40:03.152961Z",
     "start_time": "2022-02-20T19:40:02.803261Z"
    }
   },
   "outputs": [
    {
     "data": {
      "text/plain": [
       "0.8457589831337081"
      ]
     },
     "execution_count": 24,
     "metadata": {},
     "output_type": "execute_result"
    }
   ],
   "source": [
    "from sklearn.naive_bayes import MultinomialNB\n",
    "naive_bayes = Pipeline([\n",
    "                    ('vect', CountVectorizer()),\n",
    "                    ('tfidf', TfidfTransformer()),\n",
    "                     ('naive_bayes',MultinomialNB())\n",
    "                    ])\n",
    "\n",
    "naive_bayes.fit(X_train, y_train)\n",
    "# test model performance on valid data \n",
    "y_preds = naive_bayes.predict(X_valid)\n",
    "accuracy_score(y_valid,y_preds)\n",
    "\n",
    "\n",
    "#plot_confusion_matrix(naive_bayes, X = y_valid,y_true = y_preds,)"
   ]
  },
  {
   "cell_type": "markdown",
   "metadata": {},
   "source": [
    "Using Pipeline in a GridSearchCV, the parameter grid for the model should start with whatever name you gave when defining the pipeline."
   ]
  },
  {
   "cell_type": "code",
   "execution_count": null,
   "metadata": {
    "ExecuteTime": {
     "end_time": "2022-02-20T03:16:41.845778Z",
     "start_time": "2022-02-20T03:16:41.829231Z"
    }
   },
   "outputs": [],
   "source": []
  },
  {
   "cell_type": "code",
   "execution_count": 40,
   "metadata": {
    "ExecuteTime": {
     "end_time": "2022-02-20T20:00:53.326764Z",
     "start_time": "2022-02-20T20:00:48.784923Z"
    }
   },
   "outputs": [
    {
     "name": "stdout",
     "output_type": "stream",
     "text": [
      "CPU times: user 958 ms, sys: 41.9 ms, total: 1 s\n",
      "Wall time: 4.48 s\n"
     ]
    },
    {
     "data": {
      "text/plain": [
       "0.8990466878513811"
      ]
     },
     "execution_count": 40,
     "metadata": {},
     "output_type": "execute_result"
    }
   ],
   "source": [
    "# lets add grid search\n",
    "params = {'naive_bayes__alpha': [0.01, 0.1, 0.5, 1.0, 10.0, ],\n",
    "         }\n",
    "multinomial_nb_grid = GridSearchCV(naive_bayes, param_grid=params, n_jobs=-1, cv=10)\n",
    "%time multinomial_nb_grid.fit(X_train, y_train)\n",
    "y_preds = multinomial_nb_grid.predict(X_valid)\n",
    "accuracy_score(y_valid,y_preds)"
   ]
  },
  {
   "cell_type": "code",
   "execution_count": 41,
   "metadata": {
    "ExecuteTime": {
     "end_time": "2022-02-20T20:00:58.761257Z",
     "start_time": "2022-02-20T20:00:58.589644Z"
    }
   },
   "outputs": [
    {
     "name": "stdout",
     "output_type": "stream",
     "text": [
      "                  precision    recall  f1-score   support\n",
      "\n",
      "quantumcomputing       0.84      0.94      0.89      1657\n",
      "       astronomy       0.91      0.97      0.94      1998\n",
      "     martialarts       0.95      0.69      0.80       213\n",
      "        opendata       0.93      0.86      0.89       251\n",
      "          sports       0.92      0.75      0.83       607\n",
      "              ai       0.95      0.74      0.83       373\n",
      "computergraphics       0.89      0.86      0.87      1113\n",
      "          coffee       0.95      0.92      0.94       936\n",
      "            beer       0.90      0.92      0.91      1034\n",
      "\n",
      "        accuracy                           0.90      8182\n",
      "       macro avg       0.92      0.85      0.88      8182\n",
      "    weighted avg       0.90      0.90      0.90      8182\n",
      "\n"
     ]
    }
   ],
   "source": [
    "#Accurary has Increased, lets check the report for the PRecision and Recall\n",
    "print(metrics.classification_report(y_valid, y_preds,  target_names=_data.forum.unique()))"
   ]
  },
  {
   "cell_type": "markdown",
   "metadata": {
    "heading_collapsed": true
   },
   "source": [
    "#### SVM"
   ]
  },
  {
   "cell_type": "code",
   "execution_count": 27,
   "metadata": {
    "ExecuteTime": {
     "end_time": "2022-02-20T19:40:19.839678Z",
     "start_time": "2022-02-20T19:40:19.243119Z"
    },
    "hidden": true
   },
   "outputs": [
    {
     "data": {
      "text/plain": [
       "0.8683695917868491"
      ]
     },
     "execution_count": 27,
     "metadata": {},
     "output_type": "execute_result"
    }
   ],
   "source": [
    "#let try SVM\n",
    "from sklearn.linear_model import SGDClassifier\n",
    "svm_clf = Pipeline([\n",
    "                    # ('pre_processing',TfidfVectorizer(lowercase=False)), \n",
    "                    ('vect', CountVectorizer()),\n",
    "                    ('tfidf', TfidfTransformer()),\n",
    "                    ('svm', SGDClassifier(loss='hinge', penalty='l2',\n",
    "                     alpha=1e-3, random_state=42,\n",
    "                       max_iter=5, tol=None))\n",
    "                    ])\n",
    "svm_clf.fit(X_train, y_train)\n",
    "# test model performance on valid data \n",
    "y_preds = svm_clf.predict(X_valid)\n",
    "accuracy_score(y_valid,y_preds)"
   ]
  },
  {
   "cell_type": "code",
   "execution_count": 28,
   "metadata": {
    "ExecuteTime": {
     "end_time": "2022-02-20T19:40:46.130658Z",
     "start_time": "2022-02-20T19:40:37.569394Z"
    },
    "hidden": true
   },
   "outputs": [
    {
     "name": "stdout",
     "output_type": "stream",
     "text": [
      "Fitting 5 folds for each of 8 candidates, totalling 40 fits\n"
     ]
    },
    {
     "data": {
      "text/plain": [
       "0.8704473233928135"
      ]
     },
     "execution_count": 28,
     "metadata": {},
     "output_type": "execute_result"
    }
   ],
   "source": [
    "# SVM with grid search\n",
    "# lets add grid search\n",
    "\n",
    "params = { \n",
    "                'vect__ngram_range': [(1, 1), (1, 2)],\n",
    "                'tfidf__use_idf': (True, False),\n",
    "                'svm__alpha': (1e-2, 1e-3),\n",
    "}\n",
    "\n",
    "svm_grid = GridSearchCV(svm_clf, param_grid=params, n_jobs=-1, cv=5, verbose=5)\n",
    "svm_grid.fit(X_train, y_train)\n",
    "y_preds = svm_grid.predict(X_valid)\n",
    "accuracy_score(y_valid,y_preds)"
   ]
  },
  {
   "cell_type": "code",
   "execution_count": 29,
   "metadata": {
    "ExecuteTime": {
     "end_time": "2022-02-20T19:41:06.187174Z",
     "start_time": "2022-02-20T19:41:06.040615Z"
    },
    "hidden": true
   },
   "outputs": [
    {
     "name": "stdout",
     "output_type": "stream",
     "text": [
      "                  precision    recall  f1-score   support\n",
      "\n",
      "quantumcomputing       0.83      0.89      0.86      1657\n",
      "       astronomy       0.84      0.96      0.90      1998\n",
      "     martialarts       0.97      0.67      0.79       213\n",
      "        opendata       0.96      0.85      0.90       251\n",
      "          sports       0.94      0.63      0.75       607\n",
      "              ai       0.94      0.60      0.74       373\n",
      "computergraphics       0.84      0.89      0.86      1113\n",
      "          coffee       0.94      0.93      0.93       936\n",
      "            beer       0.90      0.88      0.89      1034\n",
      "\n",
      "        accuracy                           0.87      8182\n",
      "       macro avg       0.91      0.81      0.85      8182\n",
      "    weighted avg       0.88      0.87      0.87      8182\n",
      "\n"
     ]
    }
   ],
   "source": [
    "\n",
    "print(metrics.classification_report(y_valid, y_preds,  target_names=_data.forum.unique()))"
   ]
  },
  {
   "cell_type": "code",
   "execution_count": 30,
   "metadata": {
    "ExecuteTime": {
     "end_time": "2022-02-20T19:41:13.696530Z",
     "start_time": "2022-02-20T19:41:11.834881Z"
    },
    "hidden": true,
    "scrolled": true
   },
   "outputs": [
    {
     "data": {
      "image/png": "[encoded data removed]",
      "text/plain": [
       "<Figure size 1440x1440 with 2 Axes>"
      ]
     },
     "metadata": {
      "needs_background": "light"
     },
     "output_type": "display_data"
    }
   ],
   "source": [
    "import matplotlib.pyplot as plt\n",
    "fig, ax = plt.subplots(figsize=(20, 20))\n",
    "plot_confusion_matrix(svm_grid, X_valid, y_valid, ax= ax, cmap=plt.cm.Blues)  \n",
    "plt.show()"
   ]
  },
  {
   "cell_type": "markdown",
   "metadata": {},
   "source": [
    "#### LR"
   ]
  },
  {
   "cell_type": "code",
   "execution_count": 42,
   "metadata": {
    "ExecuteTime": {
     "end_time": "2022-02-20T20:07:37.426869Z",
     "start_time": "2022-02-20T20:01:04.005948Z"
    }
   },
   "outputs": [
    {
     "name": "stderr",
     "output_type": "stream",
     "text": [
      "[Parallel(n_jobs=1)]: Using backend SequentialBackend with 1 concurrent workers.\n",
      "[Parallel(n_jobs=1)]: Done   5 out of   5 | elapsed:  6.3min finished\n"
     ]
    },
    {
     "name": "stdout",
     "output_type": "stream",
     "text": [
      "CPU times: user 19min 11s, sys: 23min 27s, total: 42min 39s\n",
      "Wall time: 6min 33s\n"
     ]
    },
    {
     "data": {
      "text/plain": [
       "0.9099242239061354"
      ]
     },
     "execution_count": 42,
     "metadata": {},
     "output_type": "execute_result"
    }
   ],
   "source": [
    "#let try SVM\n",
    "from sklearn.linear_model import LogisticRegressionCV, LogisticRegression\n",
    "lr_clf = Pipeline([\n",
    "                    # ('pre_processing',TfidfVectorizer(lowercase=False)), \n",
    "                    ('vect', CountVectorizer()),\n",
    "                    ('tfidf', TfidfTransformer()),\n",
    "                    ('lr', LogisticRegressionCV(verbose=True))\n",
    "                    ])\n",
    "%time lr_clf.fit(X_train, y_train)\n",
    "# test model performance on valid data \n",
    "y_preds = lr_clf.predict(X_valid)\n",
    "accuracy_score(y_valid,y_preds)"
   ]
  },
  {
   "cell_type": "code",
   "execution_count": null,
   "metadata": {},
   "outputs": [],
   "source": [
    "# lets add grid search\n",
    "\n",
    "params = { \n",
    "                'vect__ngram_range': [(1, 1), (1, 2)],\n",
    "                'tfidf__use_idf': (True, False),\n",
    "                'svm__alpha': (1e-2, 1e-3),\n",
    "}\n",
    "\n",
    "svm_grid = GridSearchCV(svm_clf, param_grid=params, n_jobs=-1, cv=5, verbose=5)\n",
    "svm_grid.fit(X_train, y_train)\n",
    "y_preds = svm_grid.predict(X_valid)\n",
    "accuracy_score(y_valid,y_preds)"
   ]
  },
  {
   "cell_type": "code",
   "execution_count": 169,
   "metadata": {
    "ExecuteTime": {
     "end_time": "2022-02-20T03:18:21.491626Z",
     "start_time": "2022-02-20T03:18:21.485264Z"
    }
   },
   "outputs": [],
   "source": [
    "# from collections import Counter\n",
    "# Counter(y_valid)"
   ]
  },
  {
   "cell_type": "code",
   "execution_count": null,
   "metadata": {},
   "outputs": [],
   "source": [
    "## FAST TEXT"
   ]
  },
  {
   "cell_type": "code",
   "execution_count": 44,
   "metadata": {
    "ExecuteTime": {
     "end_time": "2022-02-20T20:14:01.771914Z",
     "start_time": "2022-02-20T20:14:01.765685Z"
    }
   },
   "outputs": [],
   "source": [
    "# # Text Classification with fastText\n",
    "# # Importing libraries\n",
    "# import numpy as np, pandas as pd\n",
    "\n",
    "# # NLP Preprocessing\n",
    "# from gensim.utils import simple_preprocess\n",
    "\n",
    "# # Importing the dataset\n",
    "# dataset = pd.read_csv('train.csv')[['Body', 'Y']].rename(columns = {'Body': 'questions', 'Y': 'category'})\n",
    "# ds = pd.read_csv('valid.csv')[['Body', 'Y']].rename(columns = {'Body': 'questions', 'Y': 'category'})\n",
    "\n",
    "# # NLP Preprocess\n",
    "# dataset.iloc[:, 0] = dataset.iloc[:, 0].apply(lambda x: ' '.join(simple_preprocess(x)))\n",
    "# ds.iloc[:, 0] = ds.iloc[:, 0].apply(lambda x: ' '.join(simple_preprocess(x)))\n",
    "\n",
    "# # Prefixing each row of the category column with '__label__'\n",
    "# dataset.iloc[:, 1] = dataset.iloc[:, 1].apply(lambda x: '__label__' + x)\n",
    "# ds.iloc[:, 1] = ds.iloc[:, 1].apply(lambda x: '__label__' + x)"
   ]
  },
  {
   "cell_type": "code",
   "execution_count": null,
   "metadata": {
    "ExecuteTime": {
     "end_time": "2022-02-20T20:13:26.460323Z",
     "start_time": "2022-02-20T20:13:26.452748Z"
    }
   },
   "outputs": [],
   "source": []
  },
  {
   "cell_type": "code",
   "execution_count": null,
   "metadata": {
    "ExecuteTime": {
     "end_time": "2022-02-20T03:14:58.907681Z",
     "start_time": "2022-02-20T03:14:58.886016Z"
    }
   },
   "outputs": [],
   "source": []
  },
  {
   "cell_type": "code",
   "execution_count": null,
   "metadata": {},
   "outputs": [],
   "source": []
  },
  {
   "cell_type": "code",
   "execution_count": null,
   "metadata": {},
   "outputs": [],
   "source": []
  },
  {
   "cell_type": "markdown",
   "metadata": {
    "ExecuteTime": {
     "end_time": "2022-02-18T18:41:20.144224Z",
     "start_time": "2022-02-18T18:41:20.140163Z"
    }
   },
   "source": [
    "## FAST API METHOD"
   ]
  },
  {
   "cell_type": "code",
   "execution_count": null,
   "metadata": {
    "ExecuteTime": {
     "end_time": "2022-02-18T18:49:13.129315Z",
     "start_time": "2022-02-18T18:49:13.057099Z"
    }
   },
   "outputs": [],
   "source": [
    "# split data into train and validate\n",
    "X_train, X_valid, y_train, y_valid = train_test_split(\n",
    "    X,\n",
    "    y,\n",
    "    test_size=0.15,\n",
    "    random_state=42,\n",
    "    shuffle=True,\n",
    "    stratify=y,\n",
    ")"
   ]
  },
  {
   "cell_type": "code",
   "execution_count": null,
   "metadata": {
    "ExecuteTime": {
     "end_time": "2022-02-18T18:51:32.160665Z",
     "start_time": "2022-02-18T18:51:32.147530Z"
    }
   },
   "outputs": [],
   "source": []
  },
  {
   "cell_type": "code",
   "execution_count": null,
   "metadata": {
    "ExecuteTime": {
     "end_time": "2022-02-18T18:52:01.483488Z",
     "start_time": "2022-02-18T18:52:01.480191Z"
    }
   },
   "outputs": [],
   "source": [
    "# Create a classifier in pipeline\n",
    "sentiment_classifier = Pipeline(steps=[\n",
    "                               ('pre_processing',TfidfVectorizer(lowercase=False)),\n",
    "                                 ('naive_bayes',MultinomialNB())\n",
    "                                 ])"
   ]
  },
  {
   "cell_type": "code",
   "execution_count": null,
   "metadata": {
    "ExecuteTime": {
     "end_time": "2022-02-18T18:52:28.156939Z",
     "start_time": "2022-02-18T18:52:27.764188Z"
    }
   },
   "outputs": [],
   "source": [
    "sentiment_classifier.fit(X_train,y_train)"
   ]
  },
  {
   "cell_type": "code",
   "execution_count": null,
   "metadata": {
    "ExecuteTime": {
     "end_time": "2022-02-18T19:09:57.509533Z",
     "start_time": "2022-02-18T19:09:57.497305Z"
    },
    "scrolled": true
   },
   "outputs": [],
   "source": [
    "sentiment_classifier.get_params(deep=True)"
   ]
  },
  {
   "cell_type": "code",
   "execution_count": null,
   "metadata": {
    "ExecuteTime": {
     "end_time": "2022-02-18T18:52:40.903074Z",
     "start_time": "2022-02-18T18:52:40.841642Z"
    }
   },
   "outputs": [],
   "source": [
    "y_preds = sentiment_classifier.predict(X_valid)"
   ]
  },
  {
   "cell_type": "code",
   "execution_count": null,
   "metadata": {
    "ExecuteTime": {
     "end_time": "2022-02-18T18:52:54.777707Z",
     "start_time": "2022-02-18T18:52:54.768109Z"
    }
   },
   "outputs": [],
   "source": [
    "accuracy_score(y_valid,y_preds)"
   ]
  },
  {
   "cell_type": "code",
   "execution_count": null,
   "metadata": {
    "ExecuteTime": {
     "end_time": "2022-02-18T18:54:37.996502Z",
     "start_time": "2022-02-18T18:54:37.894917Z"
    }
   },
   "outputs": [],
   "source": [
    "import joblib \n",
    "joblib.dump(sentiment_classifier, './sentiment_model_pipeline.pkl')"
   ]
  },
  {
   "cell_type": "code",
   "execution_count": null,
   "metadata": {
    "ExecuteTime": {
     "end_time": "2022-02-18T18:56:13.990807Z",
     "start_time": "2022-02-18T18:56:13.945170Z"
    }
   },
   "outputs": [],
   "source": [
    "# text preprocessing modules\n",
    "from string import punctuation \n",
    "# text preprocessing modules\n",
    "from nltk.tokenize import word_tokenize\n",
    "import nltk\n",
    "from nltk.corpus import stopwords\n",
    "from nltk.stem import WordNetLemmatizer\n",
    "import re  # regular expression\n",
    "import os\n",
    "from os.path import dirname, join, realpath\n",
    "import joblib\n",
    "import uvicorn\n",
    "from fastapi import FastAPI"
   ]
  },
  {
   "cell_type": "code",
   "execution_count": null,
   "metadata": {
    "ExecuteTime": {
     "end_time": "2022-02-18T18:57:54.759750Z",
     "start_time": "2022-02-18T18:57:54.756411Z"
    }
   },
   "outputs": [],
   "source": [
    "app = FastAPI(\n",
    "    title=\"Question Souce Model API\",\n",
    "    description=\"A simple API that uses NLP model to predict the forum to which a question is coming from\",\n",
    "    version=\"0.1\",\n",
    ")"
   ]
  },
  {
   "cell_type": "code",
   "execution_count": null,
   "metadata": {
    "ExecuteTime": {
     "end_time": "2022-02-18T18:59:04.291699Z",
     "start_time": "2022-02-18T18:59:04.225973Z"
    }
   },
   "outputs": [],
   "source": [
    "# load the sentiment model\n",
    "with open(\n",
    "    join(\"sentiment_model_pipeline.pkl\"), \"rb\"\n",
    ") as f:\n",
    "    model = joblib.load(f)"
   ]
  },
  {
   "cell_type": "code",
   "execution_count": null,
   "metadata": {
    "ExecuteTime": {
     "end_time": "2022-02-18T19:01:09.347670Z",
     "start_time": "2022-02-18T19:01:09.342090Z"
    }
   },
   "outputs": [],
   "source": [
    "@app.get(\"/predict-review\")\n",
    "def predict_sentiment(review: str):\n",
    "    \"\"\"\n",
    "    A simple function that receive a review content and predict the sentiment of the content.\n",
    "    :param review:\n",
    "    :return: prediction, probabilities\n",
    "    \"\"\"\n",
    "    # clean the review\n",
    "    cleaned_review = text_cleaning(review)\n",
    "    \n",
    "    # perform prediction\n",
    "    prediction = model.predict([cleaned_review])\n",
    "    output = int(prediction[0])\n",
    "    probas = model.predict_proba([cleaned_review])\n",
    "    output_probability = \"{:.2f}\".format(float(probas[:, output]))\n",
    "    \n",
    "    # output dictionary\n",
    "    sentiments = {0: \"Negative\", 1: \"Positive\"}\n",
    "    \n",
    "    # show results\n",
    "    result = {\"prediction\": sentiments[output], \"Probability\": output_probability}\n",
    "    return result"
   ]
  },
  {
   "cell_type": "code",
   "execution_count": null,
   "metadata": {
    "ExecuteTime": {
     "end_time": "2022-02-18T19:01:33.641569Z",
     "start_time": "2022-02-18T19:01:33.636773Z"
    }
   },
   "outputs": [],
   "source": [
    "uvicorn main:app --reload"
   ]
  },
  {
   "cell_type": "markdown",
   "metadata": {
    "ExecuteTime": {
     "end_time": "2022-02-18T19:33:01.207838Z",
     "start_time": "2022-02-18T19:33:01.201985Z"
    }
   },
   "source": [
    "## AUTOML WITH H20"
   ]
  },
  {
   "cell_type": "code",
   "execution_count": null,
   "metadata": {
    "ExecuteTime": {
     "end_time": "2022-02-18T20:10:04.178488Z",
     "start_time": "2022-02-18T20:09:59.742583Z"
    }
   },
   "outputs": [],
   "source": [
    "import h2o\n",
    "from h2o.automl import H2OAutoML\n",
    "h2o.init(max_mem_size='8G')\n",
    "get_ipython().run_line_magic('pinfo', 'h2o.init')"
   ]
  },
  {
   "cell_type": "code",
   "execution_count": null,
   "metadata": {
    "ExecuteTime": {
     "end_time": "2022-02-18T20:10:09.966787Z",
     "start_time": "2022-02-18T20:10:09.927705Z"
    }
   },
   "outputs": [],
   "source": [
    "_data.columns"
   ]
  },
  {
   "cell_type": "code",
   "execution_count": null,
   "metadata": {
    "ExecuteTime": {
     "end_time": "2022-02-18T20:35:21.626453Z",
     "start_time": "2022-02-18T20:35:21.055010Z"
    }
   },
   "outputs": [],
   "source": [
    "raw_data['question'] = raw_data['question'].astype(str)\n",
    "df = h2o.H2OFrame(raw_data)\n",
    "df.head()"
   ]
  },
  {
   "cell_type": "code",
   "execution_count": null,
   "metadata": {
    "ExecuteTime": {
     "end_time": "2022-02-18T20:38:42.775864Z",
     "start_time": "2022-02-18T20:37:36.896834Z"
    }
   },
   "outputs": [],
   "source": [
    "d1, d2 = df.split_frame(ratios=[0.75])\n",
    "# train = splits[0]\n",
    "# test = splits[1]\n",
    "\n",
    "y = \"forum\" \n",
    "x = df.columns\n",
    "x.remove(y)\n",
    "aml = H2OAutoML(max_runtime_secs=60, \n",
    "                balance_classes= True, \n",
    "                project_name='doc_classification',\n",
    "                stopping_metric= 'logloss',\n",
    "                keep_cross_validation_predictions=True,\n",
    "                )\n",
    "%time aml.train(x= x, y=y, training_frame = d1)\n"
   ]
  },
  {
   "cell_type": "code",
   "execution_count": null,
   "metadata": {
    "ExecuteTime": {
     "end_time": "2022-02-18T20:39:27.142862Z",
     "start_time": "2022-02-18T20:39:27.130339Z"
    }
   },
   "outputs": [],
   "source": [
    "aml.leaderboard"
   ]
  },
  {
   "cell_type": "code",
   "execution_count": null,
   "metadata": {
    "ExecuteTime": {
     "end_time": "2022-02-18T20:10:45.513723Z",
     "start_time": "2022-02-18T20:10:45.004621Z"
    }
   },
   "outputs": [],
   "source": []
  },
  {
   "cell_type": "code",
   "execution_count": null,
   "metadata": {},
   "outputs": [],
   "source": []
  }
 ],
 "metadata": {
  "kernelspec": {
   "display_name": "Python 3.8.2 64-bit ('venv_data_science': venv)",
   "language": "python",
   "name": "python38264bitvenvdatasciencevenvfe774d4a20ba4eb38fb5493070c733d7"
  },
  "language_info": {
   "codemirror_mode": {
    "name": "ipython",
    "version": 3
   },
   "file_extension": ".py",
   "mimetype": "text/x-python",
   "name": "python",
   "nbconvert_exporter": "python",
   "pygments_lexer": "ipython3",
   "version": "3.8.10"
  },
  "varInspector": {
   "cols": {
    "lenName": 16,
    "lenType": 16,
    "lenVar": 40
   },
   "kernels_config": {
    "python": {
     "delete_cmd_postfix": "",
     "delete_cmd_prefix": "del ",
     "library": "var_list.py",
     "varRefreshCmd": "print(var_dic_list())"
    },
    "r": {
     "delete_cmd_postfix": ") ",
     "delete_cmd_prefix": "rm(",
     "library": "var_list.r",
     "varRefreshCmd": "cat(var_dic_list()) "
    }
   },
   "types_to_exclude": [
    "module",
    "function",
    "builtin_function_or_method",
    "instance",
    "_Feature"
   ],
   "window_display": false
  }
 },
 "nbformat": 4,
 "nbformat_minor": 4
}
